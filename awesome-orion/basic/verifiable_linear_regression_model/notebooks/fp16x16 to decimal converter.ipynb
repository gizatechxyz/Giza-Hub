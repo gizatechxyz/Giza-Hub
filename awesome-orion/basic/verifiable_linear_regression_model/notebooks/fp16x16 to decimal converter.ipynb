{
 "cells": [
  {
   "cell_type": "code",
   "execution_count": 7,
   "id": "c7d8c871",
   "metadata": {},
   "outputs": [],
   "source": [
    "def fp16x16_to_decimal(fp_number):\n",
    "    whole_number = (fp_number >> 16) & 0xFFFF\n",
    "    fractional_part = fp_number & 0xFFFF\n",
    "    decimal_value = whole_number + (fractional_part / 65536)  # Divide by 2^16\n",
    "    return decimal_value\n",
    "\n",
    "def decimal_to_fp16x16(decimal_number):\n",
    "    whole_number = int(decimal_number)\n",
    "    fractional_part = int((decimal_number - whole_number) * 65536)  # Multiply by 2^16\n",
    "    fp_number = (whole_number << 16) + fractional_part\n",
    "    return fp_number\n",
    "\n",
    "def hex_to_decimal(hex_string):\n",
    "    try:\n",
    "        decimal_number = int(hex_string, 16)\n",
    "        return decimal_number\n",
    "    except ValueError:\n",
    "        return \"Invalid hexadecimal input\"\n",
    "    \n",
    "def fp16x16_hex_to_decimal(hex_string):\n",
    "    hex_to_decimal_variable = hex_to_decimal(hex_string)\n",
    "    decimal_value = fp16x16_to_decimal(hex_to_decimal_variable)\n",
    "    return decimal_value\n",
    "\n"
   ]
  },
  {
   "cell_type": "code",
   "execution_count": 9,
   "id": "b0d907a8",
   "metadata": {},
   "outputs": [
    {
     "data": {
      "text/plain": [
       "38.45289611816406"
      ]
     },
     "execution_count": 9,
     "metadata": {},
     "output_type": "execute_result"
    }
   ],
   "source": [
    "felt_to_number(\"0x2673f1\")"
   ]
  },
  {
   "cell_type": "code",
   "execution_count": null,
   "id": "9fe1872d",
   "metadata": {},
   "outputs": [],
   "source": []
  }
 ],
 "metadata": {
  "kernelspec": {
   "display_name": "Python 3 (ipykernel)",
   "language": "python",
   "name": "python3"
  },
  "language_info": {
   "codemirror_mode": {
    "name": "ipython",
    "version": 3
   },
   "file_extension": ".py",
   "mimetype": "text/x-python",
   "name": "python",
   "nbconvert_exporter": "python",
   "pygments_lexer": "ipython3",
   "version": "3.9.13"
  }
 },
 "nbformat": 4,
 "nbformat_minor": 5
}
