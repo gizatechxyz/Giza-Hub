{
 "cells": [
  {
   "cell_type": "markdown",
   "id": "151a8d2d",
   "metadata": {},
   "source": [
    " # Provable  Multiple Linear Regression Solver\n",
    " \n",
    "For this particular tutorial, we will build a Multiple Linear Regression algorithm from scratch and use it to <b>forecast the projected the 7-day lifetime repayments for  AAVE's WETH Pool</b>. Toward the end of the tutorial, we will convert the data & model to Cairo enabling us to make the entire Multiple Regression Solver as well as the AAVE's forecasts to be <b>fully Provable and Verifiable. </b>\n",
    "### Overview & methodology\n",
    "In many financial business applications, a vast number of problems can be modeled using <b>Multiple Linear Regression.</b> As we step into the on-chain ProvableML domain, these traditional algorithms may still be essential in addressing forecasting and prediction-related business problems. Interestingly, these may prove to be actually advantageous in on-chain environments as they are relatively interpretable, lightweight and cost-efficient.\n",
    "\n",
    "The most common method for computing MLR includes the use of pseudo-inverse or  SVD (Singular value decomposition), which can be far more complex to implement than the problem being worked on often times. Hence, the next common approach often preferred are gradient-based methods.  These are perfect for large datasets, but they too can be excessive due to the intensive iterative approach they take to approximate gradients; which in the context of on-chain environments can be fairly expensive. \n",
    "\n",
    "<b>This repo presents an intuitive a closed-form (non gradient based) approach to computing MLR gradients to allow builders and end-users to interact with MLR systems with ease and transparency. </b>\n",
    "\n",
    "The Multiple Linear regression Solver works in three components:\n",
    "1. Decorrelates x features from one another (most intensive part)\n",
    "2. Computes the exact gradients between each decorrelated x feature and target y variables in one step\n",
    "3. Performs predictions and forecasts using the computed gradients\n",
    "\n",
    "#### Provability and Verifiability\n",
    "<b>The key benefit of this Multiple Linear Regression Solver lies in its commitment to <u>Provability and Verifiability</u>. By integrating it into Cairo using the Orion Framework, we allow the entire MLR system to become inherently provable through STARKs, ensuring unparalleled transparency and trustworthiness. This enables every inference of the model construction, execution and prediction to be easily proved using LambdaClass STARK Prover. </b>\n"
   ]
  },
  {
   "cell_type": "markdown",
   "id": "90182f06",
   "metadata": {},
   "source": [
    "##  Import necessary libs & prepare dataset"
   ]
  },
  {
   "cell_type": "code",
   "execution_count": 1,
   "id": "f09afc09",
   "metadata": {},
   "outputs": [],
   "source": [
    "import pandas as pd\n",
    "import numpy as np\n",
    "import matplotlib.pyplot as plt\n",
    "import os\n",
    "from sklearn.metrics import r2_score"
   ]
  },
  {
   "cell_type": "code",
   "execution_count": 2,
   "id": "1f1a3299",
   "metadata": {},
   "outputs": [],
   "source": [
    "# dataset pulled from https://app.aavescan.com/  \n",
    "df_main= pd.read_csv('AAVE-V3-weth.csv')\n",
    "df_main.drop('Unnamed: 0', axis=1, inplace=True)"
   ]
  },
  {
   "cell_type": "code",
   "execution_count": 3,
   "id": "bb21fa7d",
   "metadata": {},
   "outputs": [],
   "source": [
    "# reverse order as the row 1 illustrates the most recent datapoint in terms of date\n",
    "df_main= df_main.iloc[::-1]"
   ]
  },
  {
   "cell_type": "code",
   "execution_count": 4,
   "id": "1d292060",
   "metadata": {
    "scrolled": true
   },
   "outputs": [
    {
     "data": {
      "text/html": [
       "<div>\n",
       "<style scoped>\n",
       "    .dataframe tbody tr th:only-of-type {\n",
       "        vertical-align: middle;\n",
       "    }\n",
       "\n",
       "    .dataframe tbody tr th {\n",
       "        vertical-align: top;\n",
       "    }\n",
       "\n",
       "    .dataframe thead th {\n",
       "        text-align: right;\n",
       "    }\n",
       "</style>\n",
       "<table border=\"1\" class=\"dataframe\">\n",
       "  <thead>\n",
       "    <tr style=\"text-align: right;\">\n",
       "      <th></th>\n",
       "      <th>accruedToTreasury</th>\n",
       "      <th>availableLiquidity</th>\n",
       "      <th>lifetimeFlashLoans</th>\n",
       "      <th>lifetimeLiquidity</th>\n",
       "      <th>lifetimeReserveFactorAccrued</th>\n",
       "      <th>totalLiquidityAsCollateral</th>\n",
       "      <th>totalScaledVariableDebt</th>\n",
       "      <th>lifetimeRepayments</th>\n",
       "      <th>variableBorrowRate</th>\n",
       "    </tr>\n",
       "  </thead>\n",
       "  <tbody>\n",
       "    <tr>\n",
       "      <th>30</th>\n",
       "      <td>9.330000e+18</td>\n",
       "      <td>7.400000e+22</td>\n",
       "      <td>1.240000e+23</td>\n",
       "      <td>2.040000e+24</td>\n",
       "      <td>5.500000e+20</td>\n",
       "      <td>1.190000e+24</td>\n",
       "      <td>2.870000e+23</td>\n",
       "      <td>7.640000e+23</td>\n",
       "      <td>3.370000e+25</td>\n",
       "    </tr>\n",
       "    <tr>\n",
       "      <th>29</th>\n",
       "      <td>1.340000e+19</td>\n",
       "      <td>7.450000e+22</td>\n",
       "      <td>1.240000e+23</td>\n",
       "      <td>2.050000e+24</td>\n",
       "      <td>5.500000e+20</td>\n",
       "      <td>1.190000e+24</td>\n",
       "      <td>2.870000e+23</td>\n",
       "      <td>7.640000e+23</td>\n",
       "      <td>3.370000e+25</td>\n",
       "    </tr>\n",
       "    <tr>\n",
       "      <th>28</th>\n",
       "      <td>1.740000e+19</td>\n",
       "      <td>8.020000e+22</td>\n",
       "      <td>1.240000e+23</td>\n",
       "      <td>2.070000e+24</td>\n",
       "      <td>5.500000e+20</td>\n",
       "      <td>1.190000e+24</td>\n",
       "      <td>2.880000e+23</td>\n",
       "      <td>7.650000e+23</td>\n",
       "      <td>3.320000e+25</td>\n",
       "    </tr>\n",
       "    <tr>\n",
       "      <th>27</th>\n",
       "      <td>2.120000e+19</td>\n",
       "      <td>9.590000e+22</td>\n",
       "      <td>1.280000e+23</td>\n",
       "      <td>2.120000e+24</td>\n",
       "      <td>5.500000e+20</td>\n",
       "      <td>1.240000e+24</td>\n",
       "      <td>2.860000e+23</td>\n",
       "      <td>7.700000e+23</td>\n",
       "      <td>3.180000e+25</td>\n",
       "    </tr>\n",
       "    <tr>\n",
       "      <th>26</th>\n",
       "      <td>1.660000e+17</td>\n",
       "      <td>1.000000e+23</td>\n",
       "      <td>1.410000e+23</td>\n",
       "      <td>2.150000e+24</td>\n",
       "      <td>5.750000e+20</td>\n",
       "      <td>1.280000e+24</td>\n",
       "      <td>2.870000e+23</td>\n",
       "      <td>7.730000e+23</td>\n",
       "      <td>3.150000e+25</td>\n",
       "    </tr>\n",
       "  </tbody>\n",
       "</table>\n",
       "</div>"
      ],
      "text/plain": [
       "    accruedToTreasury  availableLiquidity  lifetimeFlashLoans  \\\n",
       "30       9.330000e+18        7.400000e+22        1.240000e+23   \n",
       "29       1.340000e+19        7.450000e+22        1.240000e+23   \n",
       "28       1.740000e+19        8.020000e+22        1.240000e+23   \n",
       "27       2.120000e+19        9.590000e+22        1.280000e+23   \n",
       "26       1.660000e+17        1.000000e+23        1.410000e+23   \n",
       "\n",
       "    lifetimeLiquidity  lifetimeReserveFactorAccrued  \\\n",
       "30       2.040000e+24                  5.500000e+20   \n",
       "29       2.050000e+24                  5.500000e+20   \n",
       "28       2.070000e+24                  5.500000e+20   \n",
       "27       2.120000e+24                  5.500000e+20   \n",
       "26       2.150000e+24                  5.750000e+20   \n",
       "\n",
       "    totalLiquidityAsCollateral  totalScaledVariableDebt  lifetimeRepayments  \\\n",
       "30                1.190000e+24             2.870000e+23        7.640000e+23   \n",
       "29                1.190000e+24             2.870000e+23        7.640000e+23   \n",
       "28                1.190000e+24             2.880000e+23        7.650000e+23   \n",
       "27                1.240000e+24             2.860000e+23        7.700000e+23   \n",
       "26                1.280000e+24             2.870000e+23        7.730000e+23   \n",
       "\n",
       "    variableBorrowRate  \n",
       "30        3.370000e+25  \n",
       "29        3.370000e+25  \n",
       "28        3.320000e+25  \n",
       "27        3.180000e+25  \n",
       "26        3.150000e+25  "
      ]
     },
     "execution_count": 4,
     "metadata": {},
     "output_type": "execute_result"
    }
   ],
   "source": [
    "df_main.head()"
   ]
  },
  {
   "cell_type": "markdown",
   "id": "4d06feb5",
   "metadata": {},
   "source": [
    "## Preparing the Features and Labels"
   ]
  },
  {
   "cell_type": "markdown",
   "id": "0eec3df8",
   "metadata": {},
   "source": [
    "Now that we have prepared our AAVE dataset, we will use the features to forecast the <b>lifetime Repayments 7 days in advance</b>. In order to achieve this, we take the lifetime Repayments column and replicate it into a new column whilst shifting the column data upwards by 7 spots. This, will allow us to use this shifted column as our y label and the rest of the data as our X features.\n",
    "\n"
   ]
  },
  {
   "cell_type": "code",
   "execution_count": 5,
   "id": "3a6dc4ba",
   "metadata": {},
   "outputs": [],
   "source": [
    "#Since Most of the df values are in wei we devide all values by a fixed factor to make the data easy to work with.\n",
    "# Hence, we devide by 1e+22 to have values in thousands of ETH. \n",
    "# This will also prevent overflow as we work with 16x16 fixed point numbers in orion as we transition to cairo in later stages \n",
    "factor = 1e+22\n",
    "df_main = df_main/factor"
   ]
  },
  {
   "cell_type": "code",
   "execution_count": 6,
   "id": "6b94e8bd",
   "metadata": {},
   "outputs": [],
   "source": [
    "df= df_main.copy()"
   ]
  },
  {
   "cell_type": "code",
   "execution_count": 7,
   "id": "629ee65a",
   "metadata": {},
   "outputs": [],
   "source": [
    "days_to_forecast = -7\n",
    "df['lifetimeRepayments_7day_forecast'] = df[['lifetimeRepayments']].shift(days_to_forecast) \n",
    "df = df[0:days_to_forecast]"
   ]
  },
  {
   "cell_type": "code",
   "execution_count": 8,
   "id": "1a8ac4af",
   "metadata": {
    "scrolled": true
   },
   "outputs": [
    {
     "data": {
      "text/html": [
       "<div>\n",
       "<style scoped>\n",
       "    .dataframe tbody tr th:only-of-type {\n",
       "        vertical-align: middle;\n",
       "    }\n",
       "\n",
       "    .dataframe tbody tr th {\n",
       "        vertical-align: top;\n",
       "    }\n",
       "\n",
       "    .dataframe thead th {\n",
       "        text-align: right;\n",
       "    }\n",
       "</style>\n",
       "<table border=\"1\" class=\"dataframe\">\n",
       "  <thead>\n",
       "    <tr style=\"text-align: right;\">\n",
       "      <th></th>\n",
       "      <th>accruedToTreasury</th>\n",
       "      <th>availableLiquidity</th>\n",
       "      <th>lifetimeFlashLoans</th>\n",
       "      <th>lifetimeLiquidity</th>\n",
       "      <th>lifetimeReserveFactorAccrued</th>\n",
       "      <th>totalLiquidityAsCollateral</th>\n",
       "      <th>totalScaledVariableDebt</th>\n",
       "      <th>lifetimeRepayments</th>\n",
       "      <th>variableBorrowRate</th>\n",
       "      <th>lifetimeRepayments_7day_forecast</th>\n",
       "    </tr>\n",
       "  </thead>\n",
       "  <tbody>\n",
       "    <tr>\n",
       "      <th>30</th>\n",
       "      <td>0.000933</td>\n",
       "      <td>7.40</td>\n",
       "      <td>12.4</td>\n",
       "      <td>204.0</td>\n",
       "      <td>0.0550</td>\n",
       "      <td>119.0</td>\n",
       "      <td>28.7</td>\n",
       "      <td>76.4</td>\n",
       "      <td>3370.0</td>\n",
       "      <td>77.4</td>\n",
       "    </tr>\n",
       "    <tr>\n",
       "      <th>29</th>\n",
       "      <td>0.001340</td>\n",
       "      <td>7.45</td>\n",
       "      <td>12.4</td>\n",
       "      <td>205.0</td>\n",
       "      <td>0.0550</td>\n",
       "      <td>119.0</td>\n",
       "      <td>28.7</td>\n",
       "      <td>76.4</td>\n",
       "      <td>3370.0</td>\n",
       "      <td>77.4</td>\n",
       "    </tr>\n",
       "    <tr>\n",
       "      <th>28</th>\n",
       "      <td>0.001740</td>\n",
       "      <td>8.02</td>\n",
       "      <td>12.4</td>\n",
       "      <td>207.0</td>\n",
       "      <td>0.0550</td>\n",
       "      <td>119.0</td>\n",
       "      <td>28.8</td>\n",
       "      <td>76.5</td>\n",
       "      <td>3320.0</td>\n",
       "      <td>77.5</td>\n",
       "    </tr>\n",
       "    <tr>\n",
       "      <th>27</th>\n",
       "      <td>0.002120</td>\n",
       "      <td>9.59</td>\n",
       "      <td>12.8</td>\n",
       "      <td>212.0</td>\n",
       "      <td>0.0550</td>\n",
       "      <td>124.0</td>\n",
       "      <td>28.6</td>\n",
       "      <td>77.0</td>\n",
       "      <td>3180.0</td>\n",
       "      <td>77.6</td>\n",
       "    </tr>\n",
       "    <tr>\n",
       "      <th>26</th>\n",
       "      <td>0.000017</td>\n",
       "      <td>10.00</td>\n",
       "      <td>14.1</td>\n",
       "      <td>215.0</td>\n",
       "      <td>0.0575</td>\n",
       "      <td>128.0</td>\n",
       "      <td>28.7</td>\n",
       "      <td>77.3</td>\n",
       "      <td>3150.0</td>\n",
       "      <td>78.0</td>\n",
       "    </tr>\n",
       "  </tbody>\n",
       "</table>\n",
       "</div>"
      ],
      "text/plain": [
       "    accruedToTreasury  availableLiquidity  lifetimeFlashLoans  \\\n",
       "30           0.000933                7.40                12.4   \n",
       "29           0.001340                7.45                12.4   \n",
       "28           0.001740                8.02                12.4   \n",
       "27           0.002120                9.59                12.8   \n",
       "26           0.000017               10.00                14.1   \n",
       "\n",
       "    lifetimeLiquidity  lifetimeReserveFactorAccrued  \\\n",
       "30              204.0                        0.0550   \n",
       "29              205.0                        0.0550   \n",
       "28              207.0                        0.0550   \n",
       "27              212.0                        0.0550   \n",
       "26              215.0                        0.0575   \n",
       "\n",
       "    totalLiquidityAsCollateral  totalScaledVariableDebt  lifetimeRepayments  \\\n",
       "30                       119.0                     28.7                76.4   \n",
       "29                       119.0                     28.7                76.4   \n",
       "28                       119.0                     28.8                76.5   \n",
       "27                       124.0                     28.6                77.0   \n",
       "26                       128.0                     28.7                77.3   \n",
       "\n",
       "    variableBorrowRate  lifetimeRepayments_7day_forecast  \n",
       "30              3370.0                              77.4  \n",
       "29              3370.0                              77.4  \n",
       "28              3320.0                              77.5  \n",
       "27              3180.0                              77.6  \n",
       "26              3150.0                              78.0  "
      ]
     },
     "execution_count": 8,
     "metadata": {},
     "output_type": "execute_result"
    }
   ],
   "source": [
    "df.head()"
   ]
  },
  {
   "cell_type": "code",
   "execution_count": 9,
   "id": "cf992ac6",
   "metadata": {},
   "outputs": [
    {
     "name": "stdout",
     "output_type": "stream",
     "text": [
      "(24, 9)\n",
      "(24,)\n"
     ]
    }
   ],
   "source": [
    "#Drop the y label from dataframe\n",
    "features = df.drop(['lifetimeRepayments_7day_forecast'], axis=1)\n",
    "#setting our y label\n",
    "target = df['lifetimeRepayments_7day_forecast']\n",
    "\n",
    "\n",
    "# convert data to numpy format\n",
    "X_original = features.to_numpy()\n",
    "Y_original = target.to_numpy()\n",
    "\n",
    "print(X_original.shape)\n",
    "print(Y_original.shape)"
   ]
  },
  {
   "cell_type": "markdown",
   "id": "d5c31a01",
   "metadata": {},
   "source": [
    "## Normalize the data\n",
    "Normalize the data so that all the features values are between 0-1"
   ]
  },
  {
   "cell_type": "code",
   "execution_count": 10,
   "id": "e4551bc6",
   "metadata": {},
   "outputs": [],
   "source": [
    "def normalize_data(original_data):\n",
    "    data_min = np.min(original_data, axis=0)\n",
    "    data_max = np.max(original_data, axis=0)\n",
    "    data_range = data_max - data_min\n",
    "    data_normalized =  (original_data - data_min) / data_range\n",
    "    \n",
    "    return data_normalized\n",
    "    "
   ]
  },
  {
   "cell_type": "code",
   "execution_count": 11,
   "id": "9a50f392",
   "metadata": {},
   "outputs": [
    {
     "name": "stdout",
     "output_type": "stream",
     "text": [
      "Features max value: 1.0\n",
      "Features min value: 0.0\n",
      "Labels max value: 1.0\n",
      "Labels min value: 0.0\n"
     ]
    }
   ],
   "source": [
    "# normalize the data \n",
    "X_normalized= normalize_data(X_original)\n",
    "y_normalized= normalize_data(Y_original)\n",
    "\n",
    "print('Features max value:', X_normalized.max())\n",
    "print('Features min value:', X_normalized.min())\n",
    "print('Labels max value:', y_normalized.max())\n",
    "print('Labels min value:', y_normalized.min())\n"
   ]
  },
  {
   "cell_type": "markdown",
   "id": "310c1a0a",
   "metadata": {},
   "source": [
    "# Main Multiple Linear Regression algorythm"
   ]
  },
  {
   "cell_type": "code",
   "execution_count": 12,
   "id": "8a5a52b6",
   "metadata": {},
   "outputs": [],
   "source": [
    "def transpose_and_add_bias(feature_data):\n",
    "    #transpose the data\n",
    "    transposed_data= feature_data.T\n",
    "    #add bias term\n",
    "    transposed_data_with_bias = np.vstack((transposed_data, np.ones(transposed_data.shape[1])))\n",
    "    \n",
    "    return transposed_data_with_bias"
   ]
  },
  {
   "cell_type": "markdown",
   "id": "c8d6ed24",
   "metadata": {},
   "source": [
    "#### Decorelate the x features\n",
    "It's <b>very important</b> to notice that as we decorrelate the X features, only the last feature row will be fully <b>orthogonal</b>. The rest of the features are  decorrelated from one another but <b>are not fully orthogonal to each other</b>. This is done to save on computational cost and make the algorythm more efficient. This will enable us to calculate the following feature gradients much easier and quicker, than if we were to fully orthogonalize all the features and then compute the gradients.\n",
    "\n",
    "Later when we compute the gradients we will start from the last fully orthogonalised feature values and walk backwards to calculate the correponding gradinets, whilst removing their component from the y variable. "
   ]
  },
  {
   "cell_type": "code",
   "execution_count": 13,
   "id": "e3c5b44c",
   "metadata": {},
   "outputs": [],
   "source": [
    "def decorrelate_features(feature_data):\n",
    "\n",
    "    # Make copy of input matrix\n",
    "    x_temp = feature_data.copy()\n",
    "    \n",
    "    # Get number of features\n",
    "    feature_rows = feature_data.shape[0]\n",
    "    \n",
    "    # Decorrelate features\n",
    "    for i in range(feature_rows):\n",
    "        feature_squared = np.sum(x_temp[i]**2)\n",
    "        for j in range(i+1, feature_rows):\n",
    "            feature_cross_prod = np.sum(x_temp[i] * x_temp[j])\n",
    "            if feature_squared == 0:\n",
    "                print('Warning, division by zero encountered and handled')\n",
    "                feature_squared = 1e-8 \n",
    "            feature_grad = feature_cross_prod / feature_squared\n",
    "            x_temp[j] -= feature_grad * x_temp[i]\n",
    "            \n",
    "    decorelated_x_vals = x_temp\n",
    "\n",
    "    return decorelated_x_vals\n"
   ]
  },
  {
   "cell_type": "markdown",
   "id": "74fa9460",
   "metadata": {},
   "source": [
    "#### Calculating Gradients"
   ]
  },
  {
   "cell_type": "code",
   "execution_count": 14,
   "id": "42de0d6e",
   "metadata": {},
   "outputs": [],
   "source": [
    "def calculate_gradients(decorelated_x_vals, y_values, original_x_features):\n",
    "  \n",
    "    # Initialize gradients array\n",
    "    # Make copy of input matrix\n",
    "    y_temp = y_values.copy()\n",
    "    feature_rows = decorelated_x_vals.shape[0]\n",
    "    gradients = np.zeros(feature_rows)\n",
    "\n",
    "    # Calculate gradients\n",
    "    for i in range(feature_rows-1, -1, -1):\n",
    "        prod = np.sum(y_temp * decorelated_x_vals[i])\n",
    "        squared = np.sum(decorelated_x_vals[i] * decorelated_x_vals[i])\n",
    "        if squared == 0:\n",
    "            print('Warning, division by zero encountered and handled')\n",
    "            squared = 1e-8\n",
    "\n",
    "        gradients[i] = prod / squared\n",
    "        y_temp -= gradients[i] * original_x_features[i]\n",
    "    \n",
    "\n",
    "    return gradients"
   ]
  },
  {
   "cell_type": "code",
   "execution_count": 15,
   "id": "3c7c3fc3",
   "metadata": {},
   "outputs": [
    {
     "name": "stdout",
     "output_type": "stream",
     "text": [
      "Training data shapes:\n",
      "X_normalized: (10, 24)\n",
      "y_normalized: (24,)\n"
     ]
    }
   ],
   "source": [
    "X_normalized_transposed_with_bias = transpose_and_add_bias(X_normalized)\n",
    "\n",
    "print(\"Training data shapes:\")\n",
    "print(\"X_normalized:\", X_normalized_transposed_with_bias.shape)\n",
    "print(\"y_normalized:\", y_normalized.shape)"
   ]
  },
  {
   "cell_type": "code",
   "execution_count": 16,
   "id": "f96a6e15",
   "metadata": {},
   "outputs": [],
   "source": [
    "decorrelated_X_features = decorrelate_features(X_normalized_transposed_with_bias)"
   ]
  },
  {
   "cell_type": "code",
   "execution_count": 17,
   "id": "8815700e",
   "metadata": {},
   "outputs": [],
   "source": [
    "gradient_values = calculate_gradients(decorrelated_X_features, y_normalized, X_normalized_transposed_with_bias )\n"
   ]
  },
  {
   "cell_type": "code",
   "execution_count": 18,
   "id": "169a41b4",
   "metadata": {},
   "outputs": [
    {
     "name": "stdout",
     "output_type": "stream",
     "text": [
      "All regression coefficient:  [-1.27062243  1.15931271  0.173401   -0.31112069  1.09338439  0.93959362\n",
      " -1.12956438 -0.08371113  1.18734043  0.3425375 ]\n"
     ]
    }
   ],
   "source": [
    "real_gradient_values_reversed = np.flip(gradient_values)\n",
    "print('All regression coefficient: ', real_gradient_values_reversed )"
   ]
  },
  {
   "cell_type": "markdown",
   "id": "d6134a53",
   "metadata": {},
   "source": [
    "# Reconstructing the y labels using the calculated gradients and X feature data"
   ]
  },
  {
   "cell_type": "code",
   "execution_count": 19,
   "id": "a1bda8ed",
   "metadata": {},
   "outputs": [],
   "source": [
    "def denormalize_data(original_data,normalized_data):\n",
    "    data_min = np.min(original_data)\n",
    "    data_max = np.max(original_data)\n",
    "    data_range = data_max - data_min\n",
    "    \n",
    "    denormalize_data = ( normalized_data * data_range) + data_min\n",
    "    return denormalize_data"
   ]
  },
  {
   "cell_type": "code",
   "execution_count": 20,
   "id": "17b37869",
   "metadata": {},
   "outputs": [
    {
     "name": "stdout",
     "output_type": "stream",
     "text": [
      "R^2 score (denormalized): 0.9968099033369738\n"
     ]
    },
    {
     "data": {
      "image/png": "[encoded data removed]",
      "text/plain": [
       "<Figure size 640x480 with 1 Axes>"
      ]
     },
     "metadata": {},
     "output_type": "display_data"
    }
   ],
   "source": [
    "y_pred_norm = gradient_values @ X_normalized_transposed_with_bias #prediction#\n",
    "reconstructed_y = denormalize_data(Y_original,y_pred_norm) \n",
    "# Plot the denormalized y values\n",
    "plt.figure(2)\n",
    "plt.title(\" LifetimeRepayment Predictions\")\n",
    "plt.plot(reconstructed_y )\n",
    "plt.plot(Y_original)\n",
    "plt.legend([\" Actual y values\", \"reconstructed ys (predictions)\"])\n",
    "plt.xlabel('Days')\n",
    "plt.ylabel('Lifetime Repayment (thousands ETH)')\n",
    "\n",
    "# Calculate R^2 score for denormalized prediction\n",
    "accuracy_denormalized = r2_score(Y_original, reconstructed_y)\n",
    "print(\"R^2 score (denormalized):\", accuracy_denormalized)"
   ]
  },
  {
   "cell_type": "markdown",
   "id": "b8296c8b",
   "metadata": {},
   "source": [
    "# The upcoming 7 day Total lifetime repayments forecasts for AAVE's WETH Pool"
   ]
  },
  {
   "cell_type": "code",
   "execution_count": 21,
   "id": "bb721ff0",
   "metadata": {},
   "outputs": [],
   "source": [
    "df_forecast = df_main[-7:]\n",
    "df_forecast_data = df_forecast.to_numpy()"
   ]
  },
  {
   "cell_type": "code",
   "execution_count": 22,
   "id": "5ba45802",
   "metadata": {},
   "outputs": [],
   "source": [
    "X_min = np.min(X_original, axis=0)\n",
    "X_max = np.max(X_original, axis=0)\n",
    "X_range = X_max - X_min\n",
    "df_forecast_data_normalized =    (df_forecast_data - X_min) / X_range\n",
    "# print(df_forecast_data_normalized.shape)"
   ]
  },
  {
   "cell_type": "code",
   "execution_count": 23,
   "id": "c8d18eb5",
   "metadata": {},
   "outputs": [
    {
     "name": "stdout",
     "output_type": "stream",
     "text": [
      "Training data shapes:\n",
      "X_normalized: (9, 7)\n",
      "y_normalized: (10, 7)\n"
     ]
    }
   ],
   "source": [
    "# tranpose the matrix and add ones \n",
    "df_forecast_data_normalized_transposed= df_forecast_data_normalized.T\n",
    "df_forecast_data_normalized_transposed_with_bias = np.vstack((df_forecast_data_normalized_transposed, np.ones(df_forecast_data_normalized_transposed.shape[1])))\n",
    "print(\"Training data shapes:\")\n",
    "print(\"X_normalized:\", df_forecast_data_normalized_transposed.shape)\n",
    "print(\"y_normalized:\", df_forecast_data_normalized_transposed_with_bias.shape)"
   ]
  },
  {
   "cell_type": "code",
   "execution_count": 24,
   "id": "5df80bde",
   "metadata": {},
   "outputs": [
    {
     "name": "stdout",
     "output_type": "stream",
     "text": [
      "0 1.0782944838728898\n",
      "1 1.1357059848525208\n",
      "2 1.1665048712468642\n",
      "3 1.193423550976403\n",
      "4 1.2455779743568984\n",
      "5 1.3032904853814864\n",
      "6 1.3668000624508785\n"
     ]
    }
   ],
   "source": [
    "forecast_normalized = gradient_values @ df_forecast_data_normalized_transposed_with_bias\n",
    "for i in range(len(forecast_normalized)):\n",
    "    print(i,forecast_normalized[i])"
   ]
  },
  {
   "cell_type": "code",
   "execution_count": 25,
   "id": "84ea2dd4",
   "metadata": {
    "scrolled": true
   },
   "outputs": [
    {
     "name": "stdout",
     "output_type": "stream",
     "text": [
      "Tomorrow's Lifetime Repayment from Weth pool Forecast:  95.62317677745183\n",
      "Day 2 Lifetime Repayment from Weth pool Forecast 96.5934311440076\n",
      "Day 3 Lifetime Repayment from Weth pool Forecast 97.113932324072\n",
      "Day 4 Lifetime Repayment from Weth pool Forecast 97.5688580115012\n",
      "Day 5 Lifetime Repayment from Weth pool Forecast 98.45026776663158\n",
      "Day 6 Lifetime Repayment from Weth pool Forecast 99.42560920294711\n",
      "Day 7 Lifetime Repayment from Weth pool Forecast 100.49892105541984\n"
     ]
    }
   ],
   "source": [
    "#denormalize forecast\n",
    "Y_min = np.min(Y_original, axis=0)\n",
    "Y_max = np.max(Y_original, axis=0)\n",
    "Y_range = Y_max - Y_min\n",
    "\n",
    "forecast_pred =  (forecast_normalized * Y_range) + Y_min\n",
    "# # print(forecast_pred)\n",
    "for i in range(len(forecast_pred)):\n",
    "    if i==0:\n",
    "        print(\"Tomorrow's Lifetime Repayment from Weth pool Forecast: \",forecast_pred[i])\n",
    "    else:\n",
    "        print('Day',i+1,'Lifetime Repayment from Weth pool Forecast',forecast_pred[i])\n",
    "        "
   ]
  },
  {
   "cell_type": "code",
   "execution_count": 26,
   "id": "01f96e7f",
   "metadata": {},
   "outputs": [
    {
     "data": {
      "image/png": "[encoded data removed]",
      "text/plain": [
       "<Figure size 1000x500 with 1 Axes>"
      ]
     },
     "metadata": {},
     "output_type": "display_data"
    }
   ],
   "source": [
    "forecast_plot_data = np.insert(forecast_pred, 0, Y_original[-1])\n",
    "\n",
    "# Calculate expanding confidence intervals\n",
    "residual = Y_original - reconstructed_y\n",
    "stderr = np.std(residual)\n",
    "z_score = 1.96 # z-score for 95% CI\n",
    "intervals = z_score *stderr * np.sqrt(np.arange(len(forecast_plot_data)))\n",
    "\n",
    "\n",
    "# Creating the plot\n",
    "plt.figure(figsize=(10, 5))\n",
    "plt.plot(Y_original , label='Historical lifetime repayments')\n",
    "plt.plot(len(Y_original)-1 + np.arange(len(forecast_plot_data)), forecast_plot_data , color='orange', label='Upcoming 7 day forecast')\n",
    "plt.fill_between(len(Y_original)-1 + np.arange(len(forecast_plot_data)),  \n",
    "                 (forecast_plot_data - intervals),\n",
    "                 (forecast_plot_data + intervals),\n",
    "                 alpha=0.12,\n",
    "                color='green',\n",
    "                label='95% confidence interval')\n",
    "\n",
    "\n",
    "plt.plot(reconstructed_y ,  label=\"Model's Predictions\", color='lightblue')\n",
    "# Adding labels and title\n",
    "plt.xlabel('Days')\n",
    "plt.ylabel('Lifetime Repayment (thousands ETH)')\n",
    "plt.title(\" 7 Day Forecast (AAVE's total WETH lifetimeRepayment)\")\n",
    "plt.legend()\n",
    "\n",
    "# Display the plot\n",
    "plt.show()"
   ]
  },
  {
   "cell_type": "markdown",
   "id": "8af06223",
   "metadata": {},
   "source": [
    "# Transition to Cairo\n",
    "## Create a scarb project\n",
    "\n",
    "Scarb is the Cairo package manager specifically created to streamline our Cairo and Starknet development process. You can find all information about Scarb and Cairo installation here"
   ]
  },
  {
   "cell_type": "code",
   "execution_count": 27,
   "id": "9d3cb826",
   "metadata": {},
   "outputs": [
    {
     "name": "stdout",
     "output_type": "stream",
     "text": [
      "Created `multiple_linear_regression_aave` package.\n"
     ]
    }
   ],
   "source": [
    "! scarb new multiple_linear_regression_aave"
   ]
  },
  {
   "cell_type": "code",
   "execution_count": 28,
   "id": "df9e40c3",
   "metadata": {},
   "outputs": [],
   "source": [
    "!echo -n > multiple_linear_regression_aave/src/lib.cairo"
   ]
  },
  {
   "cell_type": "markdown",
   "id": "38ac62e4",
   "metadata": {},
   "source": [
    "A new project folder will be created for you and make sure to replace the content in Scarb.toml file with the following code:\n",
    "```toml\n",
    "[package]\n",
    "name = \"multiple_linear_regresion\"\n",
    "version = \"0.1.0\"\n",
    "\n",
    "\n",
    "[dependencies]\n",
    "orion = { git = \"https://github.com/gizatechxyz/onnx-cairo\" }\n",
    "\n",
    "[scripts]\n",
    "test = \"scarb cairo-test -f multiple_linear_regression_test\"\n",
    "```"
   ]
  },
  {
   "cell_type": "code",
   "execution_count": 29,
   "id": "e366fe1f",
   "metadata": {},
   "outputs": [
    {
     "ename": "SyntaxError",
     "evalue": "invalid syntax (252576425.py, line 3)",
     "output_type": "error",
     "traceback": [
      "\u001b[0;36m  Cell \u001b[0;32mIn [29], line 3\u001b[0;36m\u001b[0m\n\u001b[0;31m    mod test;\u001b[0m\n\u001b[0m        ^\u001b[0m\n\u001b[0;31mSyntaxError\u001b[0m\u001b[0;31m:\u001b[0m invalid syntax\n"
     ]
    }
   ],
   "source": [
    "# add reference modules to help our code compile at the end\n",
    "%%writefile -a src/lib.cairo \n",
    "mod test;\n",
    "mod data_preprocessing;\n",
    "mod helper_functions;\n",
    "mod datasets;\n",
    "mod model;"
   ]
  },
  {
   "cell_type": "markdown",
   "id": "c0340f15",
   "metadata": {},
   "source": [
    "\n",
    "## Generate Cairo files\n",
    "\n",
    "Now, we will transition our model to cairo. We will start by converting the the X features and Y labels to FP16x16 tensors numbers. "
   ]
  },
  {
   "cell_type": "code",
   "execution_count": 30,
   "id": "39b6b561",
   "metadata": {},
   "outputs": [],
   "source": [
    "# Convert the original data to Cairo \n",
    "\n",
    "\n",
    "def generate_cairo_files(data, name, folder_name):\n",
    "    \n",
    "    os.makedirs(f'multiple_linear_regression_aave/src/datasets/{folder_name}', exist_ok=True)\n",
    "    with open(os.path.join('multiple_linear_regression_aave/src/datasets', f'{folder_name}', f\"{name}.cairo\"), \"w\") as f:\n",
    "            f.write(\n",
    "                \"use array::ArrayTrait;\\n\" +\n",
    "                \"use orion::numbers::fixed_point::implementations::fp16x16::core::{FP16x16Impl, FP16x16PartialEq };\\n\" +\n",
    "                \"use orion::operators::tensor::{Tensor, TensorTrait, FP16x16Tensor};\\n\" +\n",
    "                \"use orion::numbers::{FP16x16, FixedTrait};\\n\\n\" +\n",
    "                \"fn {0}() ->  Tensor<FP16x16>  \".format(name) + \"{\\n\" +\n",
    "                \"    let tensor = TensorTrait::<FP16x16>::new( \\n\"\n",
    "            )\n",
    "            \n",
    "            if len(data.shape)>1:\n",
    "                f.write(\"    shape: array![{0},\".format(data.shape[0]))\n",
    "                f.write(\"{0}].span(),\\n\".format(data.shape[1]))\n",
    "                f.write(\n",
    "                    \"    data: array![ \\n\"\n",
    "                )\n",
    "            if len(data.shape)==1:\n",
    "                f.write(\"    shape: array![{0}].span(),\\n\".format(data.shape[0]))\n",
    "                f.write(\n",
    "                    \"    data: array![ \\n\"\n",
    "                )\n",
    "            for val in np.nditer(data.flatten()):\n",
    "                f.write(\"    FixedTrait::new({0}, {1} ),\\n\".format(abs(int(val * 2**16)), str(val < 0).lower()))\n",
    "            f.write(\n",
    "                \"].span() \\n \\n\" +\n",
    "                \");\\n\\n\"+\n",
    "                \"return tensor; \\n\"+\n",
    "                \"}\"\n",
    "            )\n",
    "    with open(os.path.join('multiple_linear_regression_aave/src/datasets', f'{folder_name}.cairo'), 'a') as f:\n",
    "        f.write(f\"mod {name};\\n\")"
   ]
  },
  {
   "cell_type": "code",
   "execution_count": 31,
   "id": "1a0e7a71",
   "metadata": {},
   "outputs": [],
   "source": [
    "generate_cairo_files(X_original, 'aave_x_features', 'aave_data')\n",
    "generate_cairo_files(Y_original, 'aave_y_labels', 'aave_data')\n"
   ]
  },
  {
   "cell_type": "code",
   "execution_count": 32,
   "id": "b8c2b804",
   "metadata": {},
   "outputs": [],
   "source": [
    "generate_cairo_files(df_forecast_data, 'aave_weth_revenue_data_input', 'user_inputs_data')"
   ]
  },
  {
   "cell_type": "code",
   "execution_count": 33,
   "id": "fb316caf",
   "metadata": {},
   "outputs": [],
   "source": [
    "# add reference modules to help our code compile\n",
    "! touch multiple_linear_regression_aave/src/datasets.cairo"
   ]
  },
  {
   "cell_type": "code",
   "execution_count": 34,
   "id": "fa5fb2be",
   "metadata": {},
   "outputs": [
    {
     "name": "stdout",
     "output_type": "stream",
     "text": [
      "Overwriting multiple_linear_regression_aave/src/datasets.cairo\n"
     ]
    }
   ],
   "source": [
    "%%writefile multiple_linear_regression_aave/src/datasets.cairo\n",
    "mod aave_data;\n",
    "mod user_inputs_data;"
   ]
  },
  {
   "cell_type": "code",
   "execution_count": 35,
   "id": "b9af5716",
   "metadata": {},
   "outputs": [],
   "source": [
    "! touch multiple_linear_regression_aave/src/datasets/aave_data.cairo"
   ]
  },
  {
   "cell_type": "code",
   "execution_count": 36,
   "id": "230ac6ed",
   "metadata": {},
   "outputs": [
    {
     "name": "stdout",
     "output_type": "stream",
     "text": [
      "Overwriting multiple_linear_regression_aave/src/datasets/aave_data.cairo\n"
     ]
    }
   ],
   "source": [
    "%%writefile multiple_linear_regression_aave/src/datasets/aave_data.cairo\n",
    "mod aave_x_features;\n",
    "mod aave_y_labels;"
   ]
  },
  {
   "cell_type": "code",
   "execution_count": 37,
   "id": "4d57b462",
   "metadata": {},
   "outputs": [],
   "source": [
    "! touch multiple_linear_regression_aave/src/datasets/user_inputs_data.cairo"
   ]
  },
  {
   "cell_type": "code",
   "execution_count": 38,
   "id": "fe4d136a",
   "metadata": {},
   "outputs": [
    {
     "name": "stdout",
     "output_type": "stream",
     "text": [
      "Overwriting multiple_linear_regression_aave/src/datasets/user_inputs_data.cairo\n"
     ]
    }
   ],
   "source": [
    "%%writefile multiple_linear_regression_aave/src/datasets/user_inputs_data.cairo\n",
    "mod aave_weth_revenue_data_input;"
   ]
  },
  {
   "cell_type": "markdown",
   "id": "8cb7f589",
   "metadata": {},
   "source": [
    "## Helper functions \n",
    "\n",
    "We add some helper functions to make it easier to construct our MLR model"
   ]
  },
  {
   "cell_type": "code",
   "execution_count": 39,
   "id": "cd34a054",
   "metadata": {},
   "outputs": [],
   "source": [
    "! touch multiple_linear_regression_aave/src/helper_functions.cairo"
   ]
  },
  {
   "cell_type": "code",
   "execution_count": 40,
   "id": "a9d33776",
   "metadata": {},
   "outputs": [
    {
     "name": "stdout",
     "output_type": "stream",
     "text": [
      "Overwriting multiple_linear_regression_aave/src/helper_functions.cairo\n"
     ]
    }
   ],
   "source": [
    "%%writefile multiple_linear_regression_aave/src/helper_functions.cairo\n",
    "\n",
    "use debug::PrintTrait;\n",
    "use array::{ArrayTrait, SpanTrait};\n",
    "use orion::operators::tensor::{\n",
    "    Tensor, TensorTrait, FP16x16Tensor, U32Tensor, U32TensorAdd, FP16x16TensorSub, FP16x16TensorAdd,\n",
    "    FP16x16TensorDiv, FP16x16TensorMul\n",
    "};\n",
    "\n",
    "use orion::numbers::{FP16x16, FixedTrait};\n",
    "\n",
    "// retrieves row data by index in a 2D tensor\n",
    "fn get_tensor_data_by_row(tensor_data: Tensor<FP16x16>, row_index: u32,) -> Tensor<FP16x16> {\n",
    "    let column_len = *tensor_data.shape.at(1); //13\n",
    "    // crete new array\n",
    "    let mut result = ArrayTrait::<FP16x16>::new();\n",
    "    // loop through the x values and append values \n",
    "    let mut i: u32 = 0;\n",
    "    loop {\n",
    "        if i >= column_len {\n",
    "            break ();\n",
    "        }\n",
    "        result.append(tensor_data.at(indices: array![row_index, i].span()));\n",
    "        i += 1;\n",
    "    };\n",
    "    let resultant_tensor = TensorTrait::<\n",
    "        FP16x16\n",
    "    >::new(array![column_len].span(), data: result.span());\n",
    "    return resultant_tensor;\n",
    "}\n",
    "\n",
    "\n",
    "// transposes tensor\n",
    "fn transpose_tensor(tensor_data: Tensor<FP16x16>) -> Tensor<FP16x16> {\n",
    "    let tensor_transposed = tensor_data.transpose(axes: array![1, 0].span());\n",
    "    return tensor_transposed;\n",
    "}\n",
    "\n",
    "fn calculate_mean(tensor_data: Tensor<FP16x16>) -> FP16x16 {\n",
    "    let tensor_size = FixedTrait::<FP16x16>::new_unscaled(tensor_data.data.len(), false);\n",
    "    let cumulated_sum = tensor_data.cumsum(0, Option::None(()), Option::None(()));\n",
    "    let sum_result = cumulated_sum.data[tensor_data.data.len() - 1];\n",
    "    let mean = *sum_result / tensor_size;\n",
    "    return mean;\n",
    "}\n",
    "\n",
    "// Calculates the R-Squared score between two tensors.\n",
    "fn calculate_r_score(Y_values: Tensor<FP16x16>, Y_pred_values: Tensor<FP16x16>) -> FP16x16 {\n",
    "    let mut Y_values_ = Y_values;\n",
    "    let mean_y_value = calculate_mean(Y_values);\n",
    "    // creating the appropriate tensor shapes and empty arrays to populate values into\n",
    "    let mut squared_diff_shape = array::ArrayTrait::new();\n",
    "    squared_diff_shape.append(Y_values.data.len());\n",
    "    let mut squared_diff_vals = array::ArrayTrait::new();\n",
    "    let mut squared_mean_diff_shape = array::ArrayTrait::new();\n",
    "    squared_mean_diff_shape.append(Y_values.data.len());\n",
    "    let mut squared_mean_diff_vals = array::ArrayTrait::new();\n",
    "\n",
    "    let mut i: u32 = 0;\n",
    "\n",
    "    loop {\n",
    "        match Y_values_.data.pop_front() {\n",
    "            Option::Some(y_value) => {\n",
    "                let diff_pred = *y_value - *Y_pred_values.data.at(i);\n",
    "                let squared_diff = diff_pred * diff_pred;\n",
    "                squared_diff_vals.append(squared_diff);\n",
    "\n",
    "                let diff_mean = *y_value - mean_y_value;\n",
    "                let squared_mean_diff = diff_mean * diff_mean;\n",
    "                squared_mean_diff_vals.append(squared_mean_diff);\n",
    "                i += 1;\n",
    "            },\n",
    "            Option::None(_) => { break; }\n",
    "        }\n",
    "    };\n",
    "\n",
    "    let squared_diff_tensor = TensorTrait::<\n",
    "        FP16x16\n",
    "    >::new(squared_diff_shape.span(), squared_diff_vals.span());\n",
    "    let squared_mean_diff_tensor = TensorTrait::<\n",
    "        FP16x16\n",
    "    >::new(squared_mean_diff_shape.span(), squared_mean_diff_vals.span());\n",
    "    let sum_squared_diff = squared_diff_tensor.cumsum(0, Option::None(()), Option::None(()));\n",
    "    let sum_squared_mean_diff = squared_mean_diff_tensor\n",
    "        .cumsum(0, Option::None(()), Option::None(()));\n",
    "    let r_score = FixedTrait::new_unscaled(1, false)\n",
    "        - *sum_squared_diff.data.at(Y_values.data.len() - 1)\n",
    "            / *sum_squared_mean_diff.data.at(Y_values.data.len() - 1);\n",
    "\n",
    "    return r_score;\n",
    "}\n",
    "\n",
    "\n",
    "// computes the x_min, x_max and x_range. Used for helping in normalizing and denormalizing user inputed values operations\n",
    "fn normalize_user_x_inputs(\n",
    "    x_inputs: Tensor<FP16x16>, original_x_values: Tensor<FP16x16>\n",
    ") -> Tensor<FP16x16> {\n",
    "    let mut x_inputs_normalized = TensorTrait::<\n",
    "        FP16x16\n",
    "    >::new(shape: array![1].span(), data: array![FixedTrait::new(10, false)].span());\n",
    "\n",
    "    let mut x_min = ArrayTrait::<FP16x16>::new();\n",
    "    let mut x_max = ArrayTrait::<FP16x16>::new();\n",
    "    let mut x_range = ArrayTrait::<FP16x16>::new();\n",
    "    let mut result = ArrayTrait::<FP16x16>::new();\n",
    "\n",
    "    if original_x_values.shape.len() > 1 {\n",
    "        let transposed_tensor = original_x_values.transpose(axes: array![1, 0].span());\n",
    "        let data_len = *transposed_tensor.shape.at(0); //13\n",
    "        // loop through each row calculating the min, max and range row values for each feature columns\n",
    "        let mut i: u32 = 0;\n",
    "        loop {\n",
    "            if i >= data_len {\n",
    "                break ();\n",
    "            }\n",
    "            let mut transposed_tensor_row = get_tensor_data_by_row(transposed_tensor, i);\n",
    "            x_min.append(transposed_tensor_row.min_in_tensor());\n",
    "            x_max.append(transposed_tensor_row.max_in_tensor());\n",
    "            x_range\n",
    "                .append(\n",
    "                    transposed_tensor_row.max_in_tensor() - transposed_tensor_row.min_in_tensor()\n",
    "                );\n",
    "            i += 1;\n",
    "        };\n",
    "        let mut x_min_tensor = TensorTrait::new(shape: array![data_len].span(), data: x_min.span());\n",
    "        let mut x_max_tensor = TensorTrait::new(shape: array![data_len].span(), data: x_max.span());\n",
    "        let mut x_range_tensor = TensorTrait::new(\n",
    "            shape: array![data_len].span(), data: x_range.span()\n",
    "        );\n",
    "\n",
    "        // for normalizing 2D user inputed feature vals\n",
    "        if x_inputs.shape.len() > 1 {\n",
    "            let mut j: u32 = 0;\n",
    "            loop {\n",
    "                if j >= *x_inputs.shape.at(0) {\n",
    "                    break ();\n",
    "                };\n",
    "                let mut row_data = get_tensor_data_by_row(x_inputs, j);\n",
    "                let mut norm_row_data = (row_data - x_min_tensor) / x_range_tensor;\n",
    "                let mut k: u32 = 0;\n",
    "\n",
    "                loop {\n",
    "                    if k >= norm_row_data.data.len() {\n",
    "                        break ();\n",
    "                    };\n",
    "                    result.append(*norm_row_data.data.at(k));\n",
    "                    k += 1;\n",
    "                };\n",
    "                j += 1;\n",
    "            };\n",
    "            x_inputs_normalized =\n",
    "                TensorTrait::<\n",
    "                    FP16x16\n",
    "                >::new(\n",
    "                    array![*x_inputs.shape.at(0), *x_inputs.shape.at(1)].span(), data: result.span()\n",
    "                );\n",
    "        };\n",
    "\n",
    "        // for normalizing 1D feature input\n",
    "        if x_inputs.shape.len() == 1 {\n",
    "            x_inputs_normalized = (x_inputs - x_min_tensor) / x_range_tensor;\n",
    "        };\n",
    "    }\n",
    "\n",
    "    if original_x_values.shape.len() == 1 {\n",
    "        let mut x_min_tensor = TensorTrait::<\n",
    "            FP16x16\n",
    "        >::new(shape: array![1].span(), data: array![original_x_values.min_in_tensor()].span());\n",
    "        let mut x_max_tensor = TensorTrait::<\n",
    "            FP16x16\n",
    "        >::new(shape: array![1].span(), data: array![original_x_values.max_in_tensor()].span());\n",
    "        let mut x_range_tensor = TensorTrait::<\n",
    "            FP16x16\n",
    "        >::new(\n",
    "            shape: array![1].span(),\n",
    "            data: array![original_x_values.max_in_tensor() - original_x_values.min_in_tensor()]\n",
    "                .span()\n",
    "        );\n",
    "        let mut diff = ((x_inputs - x_min_tensor));\n",
    "        x_inputs_normalized = ((x_inputs - x_min_tensor)) / x_range_tensor;\n",
    "    };\n",
    "    return x_inputs_normalized;\n",
    "}\n",
    "\n",
    "\n",
    "// rescales model predictions to standard format\n",
    "fn rescale_predictions(\n",
    "    prediction_result: Tensor<FP16x16>, y_values: Tensor<FP16x16>\n",
    ") -> Tensor<FP16x16> {\n",
    "    let mut rescale_predictions = TensorTrait::<\n",
    "        FP16x16\n",
    "    >::new(shape: array![1].span(), data: array![FixedTrait::new(10, false)].span());\n",
    "\n",
    "    let mut y_min_array = ArrayTrait::<FP16x16>::new();\n",
    "    let mut y_max_array = ArrayTrait::<FP16x16>::new();\n",
    "    let mut y_range_array = ArrayTrait::<FP16x16>::new();\n",
    "\n",
    "    let mut y_max = y_values.max_in_tensor();\n",
    "    let mut y_min = y_values.min_in_tensor();\n",
    "    let mut y_range = y_values.max_in_tensor() - y_values.min_in_tensor();\n",
    "    // convert to tensor format for ease of math operations\n",
    "    let y_min_tensor = TensorTrait::<\n",
    "        FP16x16\n",
    "    >::new(shape: array![1].span(), data: array![y_min].span());\n",
    "    let y_max_tensor = TensorTrait::<\n",
    "        FP16x16\n",
    "    >::new(shape: array![1].span(), data: array![y_max].span());\n",
    "    let y_range_tensor = TensorTrait::<\n",
    "        FP16x16\n",
    "    >::new(shape: array![1].span(), data: array![y_range].span());\n",
    "\n",
    "    rescale_predictions = (prediction_result * y_range_tensor) + y_min_tensor;\n",
    "\n",
    "    return rescale_predictions;\n",
    "}\n",
    "\n",
    "\n"
   ]
  },
  {
   "cell_type": "markdown",
   "id": "22a08abf",
   "metadata": {},
   "source": [
    "## Data-preprocessing functions\n",
    "\n",
    "It is <b>recommended</b> to normalize data before passing it to the multiple linear regression model since we will be working with 16x16 fixed point numbers in cairo. This will prevent from having overflow issues as we compute the feature gradient values (some of the calculations involve squaring x values which can be relatively large if not normalized)"
   ]
  },
  {
   "cell_type": "code",
   "execution_count": 41,
   "id": "9995e498",
   "metadata": {},
   "outputs": [],
   "source": [
    "! touch multiple_linear_regression_aave/src/data_preprocessing.cairo"
   ]
  },
  {
   "cell_type": "code",
   "execution_count": 42,
   "id": "f559dab1",
   "metadata": {},
   "outputs": [
    {
     "name": "stdout",
     "output_type": "stream",
     "text": [
      "Overwriting multiple_linear_regression_aave/src/data_preprocessing.cairo\n"
     ]
    }
   ],
   "source": [
    "\n",
    "%%writefile multiple_linear_regression_aave/src/data_preprocessing.cairo\n",
    "\n",
    "use orion::operators::tensor::{\n",
    "    Tensor, TensorTrait, FP16x16Tensor, U32Tensor, U32TensorAdd, FP16x16TensorSub, FP16x16TensorAdd,\n",
    "    FP16x16TensorDiv, FP16x16TensorMul\n",
    "};\n",
    "use orion::numbers::{FP16x16, FixedTrait};\n",
    "use multiple_linear_regresion::helper_functions::{\n",
    "    get_tensor_data_by_row, transpose_tensor, calculate_mean, calculate_r_score,\n",
    "    normalize_user_x_inputs, rescale_predictions\n",
    "};\n",
    "\n",
    "#[derive(Copy, Drop)]\n",
    "struct Dataset {\n",
    "    x_values: Tensor<FP16x16>,\n",
    "    y_values: Tensor<FP16x16>,\n",
    "}\n",
    "\n",
    "#[generate_trait]\n",
    "impl DataPreprocessing of DatasetTrait {\n",
    "    fn normalize_dataset(ref self: Dataset) -> Dataset {\n",
    "        let mut x_values = TensorTrait::<FP16x16>::new(array![1].span(), array![FixedTrait::new(0, false)].span());\n",
    "        let mut y_values = TensorTrait::<FP16x16>::new(array![1].span(), array![FixedTrait::new(0, false)].span());\n",
    "        // used for multiple_linear_regression_models\n",
    "        if self.x_values.shape.len() > 1 {\n",
    "            x_values = normalize_feature_data(self.x_values);\n",
    "            y_values = normalize_label_data(self.y_values);\n",
    "        }\n",
    "        // used for linear_regression_models\n",
    "        if self.x_values.shape.len() == 1 {\n",
    "            x_values = normalize_label_data(self.x_values);\n",
    "            y_values = normalize_label_data(self.y_values);\n",
    "        }\n",
    "\n",
    "        return Dataset { x_values, y_values };\n",
    "    }\n",
    "}\n",
    "\n",
    "// normalizes 2D Tensor\n",
    "fn normalize_feature_data(tensor_data: Tensor<FP16x16>) -> Tensor<FP16x16> {\n",
    "    let mut x_min_array = ArrayTrait::<FP16x16>::new();\n",
    "    let mut x_max_array = ArrayTrait::<FP16x16>::new();\n",
    "    let mut x_range_array = ArrayTrait::<FP16x16>::new();\n",
    "    let mut normalized_array = ArrayTrait::<FP16x16>::new();\n",
    "    // transpose to change rows to be columns\n",
    "    let transposed_tensor = tensor_data.transpose(axes: array![1, 0].span());\n",
    "    let tensor_shape = transposed_tensor.shape;\n",
    "    let tensor_row_len = *tensor_shape.at(0); // 13 \n",
    "    let tensor_column_len = *tensor_shape.at(1); //50\n",
    "    // loop and append max and min row values to corresponding  array\n",
    "    let mut i: u32 = 0;\n",
    "    loop {\n",
    "        if i >= tensor_row_len {\n",
    "            break ();\n",
    "        }\n",
    "        let mut transposed_tensor_row = get_tensor_data_by_row(transposed_tensor, i);\n",
    "        x_max_array.append(transposed_tensor_row.max_in_tensor());\n",
    "        x_min_array.append(transposed_tensor_row.min_in_tensor());\n",
    "        x_range_array\n",
    "            .append(transposed_tensor_row.max_in_tensor() - transposed_tensor_row.min_in_tensor());\n",
    "        i += 1;\n",
    "    };\n",
    "    // convert array to tensor format for ease of math operation\n",
    "    let mut x_min = TensorTrait::<\n",
    "        FP16x16\n",
    "    >::new(shape: array![1, tensor_row_len].span(), data: x_min_array.span());\n",
    "    let mut x_range = TensorTrait::<\n",
    "        FP16x16\n",
    "    >::new(shape: array![1, tensor_row_len].span(), data: x_range_array.span());\n",
    "    let normalized_tensor = (tensor_data - x_min) / x_range;\n",
    "    return normalized_tensor;\n",
    "}\n",
    "\n",
    "// normalizes 1D tensor\n",
    "fn normalize_label_data(tensor_data: Tensor<FP16x16>) -> Tensor<FP16x16> {\n",
    "    let mut tensor_data_ = tensor_data;\n",
    "    let mut normalized_array = ArrayTrait::<FP16x16>::new();\n",
    "    let mut range = tensor_data.max_in_tensor() - tensor_data.min_in_tensor();\n",
    "    // loop through tensor values normalizing and appending to new array\n",
    "    let mut i: u32 = 0;\n",
    "\n",
    "    loop {\n",
    "        match tensor_data_.data.pop_front() {\n",
    "            Option::Some(tensor_val) => {\n",
    "                let mut diff = *tensor_val - tensor_data.min_in_tensor();\n",
    "                normalized_array.append(diff / range);\n",
    "                i += 1;\n",
    "            },\n",
    "            Option::None(_) => { break; }\n",
    "        };\n",
    "    };\n",
    "    // convert normalized array values to tensor format\n",
    "    let mut normalized_tensor = TensorTrait::<\n",
    "        FP16x16\n",
    "    >::new(shape: array![tensor_data.data.len()].span(), data: normalized_array.span());\n",
    "    return normalized_tensor;\n",
    "}\n",
    "\n"
   ]
  },
  {
   "cell_type": "markdown",
   "id": "12784736",
   "metadata": {},
   "source": [
    "## Multiple Linear Regression Model\n",
    "\n",
    "Implement the Multiple Linear Regression functions"
   ]
  },
  {
   "cell_type": "code",
   "execution_count": 43,
   "id": "ea7c8acc",
   "metadata": {},
   "outputs": [],
   "source": [
    "os.makedirs(f'multiple_linear_regression_aave/src/model/', exist_ok=True)"
   ]
  },
  {
   "cell_type": "code",
   "execution_count": 44,
   "id": "543d3c63",
   "metadata": {},
   "outputs": [],
   "source": [
    "! touch multiple_linear_regression_aave/src/model/multiple_linear_regression_model.cairo"
   ]
  },
  {
   "cell_type": "code",
   "execution_count": 45,
   "id": "24d21d37",
   "metadata": {},
   "outputs": [
    {
     "name": "stdout",
     "output_type": "stream",
     "text": [
      "Overwriting multiple_linear_regression_aave/src/model/multiple_linear_regression_model.cairo\n"
     ]
    }
   ],
   "source": [
    "%%writefile multiple_linear_regression_aave/src/model/multiple_linear_regression_model.cairo\n",
    "\n",
    "use orion::operators::tensor::{\n",
    "    Tensor, TensorTrait, FP16x16Tensor, U32Tensor, U32TensorAdd, FP16x16TensorSub, FP16x16TensorAdd,\n",
    "    FP16x16TensorDiv, FP16x16TensorMul\n",
    "};\n",
    "use orion::numbers::{FP16x16, FixedTrait};\n",
    "use multiple_linear_regresion::data_preprocessing::{Dataset, DatasetTrait};\n",
    "use multiple_linear_regresion::helper_functions::{\n",
    "    get_tensor_data_by_row, transpose_tensor, calculate_mean, calculate_r_score,\n",
    "    normalize_user_x_inputs, rescale_predictions\n",
    "};\n",
    "\n",
    "\n",
    "#[derive(Copy, Drop)]\n",
    "struct MultipleLinearRegressionModel {\n",
    "    coefficients: Tensor<FP16x16>\n",
    "}\n",
    "\n",
    "#[generate_trait]\n",
    "impl RegressionOperation of MultipleLinearRegressionModelTrait {\n",
    "    // reconstruct the y values using the computed gradients and x values\n",
    "    fn predict(\n",
    "        ref self: MultipleLinearRegressionModel, feature_inputs: Tensor<FP16x16>\n",
    "    ) -> Tensor<FP16x16> {\n",
    "        // random tensor value that we will replace\n",
    "        let mut prediction_result = TensorTrait::<\n",
    "            FP16x16\n",
    "        >::new(shape: array![1].span(), data: array![FixedTrait::new(10, false)].span());\n",
    "\n",
    "        let mut result = ArrayTrait::<FP16x16>::new();\n",
    "        // for multiple predictions\n",
    "        if feature_inputs.shape.len() > 1 {\n",
    "            let feature_values = add_bias_term(feature_inputs, 1);\n",
    "            let mut data_len: u32 = *feature_values.shape.at(0);\n",
    "            let mut i: u32 = 0;\n",
    "            loop {\n",
    "                if i >= data_len {\n",
    "                    break ();\n",
    "                }\n",
    "                let feature_row_values = get_tensor_data_by_row(feature_values, i);\n",
    "                let predicted_values = feature_row_values.matmul(@self.coefficients);\n",
    "                result.append(*predicted_values.data.at(0));\n",
    "                i += 1;\n",
    "            };\n",
    "            prediction_result =\n",
    "                TensorTrait::<\n",
    "                    FP16x16\n",
    "                >::new(shape: array![result.len()].span(), data: result.span());\n",
    "        }\n",
    "\n",
    "        // for single predictions \n",
    "        if feature_inputs.shape.len() == 1 && self.coefficients.data.len() > 1 {\n",
    "            let feature_values = add_bias_term(feature_inputs, 1);\n",
    "            prediction_result = feature_values.matmul(@self.coefficients);\n",
    "        }\n",
    "\n",
    "        return prediction_result;\n",
    "    }\n",
    "}\n",
    "\n",
    "fn MultipleLinearRegression(dataset: Dataset) -> MultipleLinearRegressionModel {\n",
    "    let x_values_tranposed = transpose_tensor(dataset.x_values);\n",
    "    let x_values_tranposed_with_bias = add_bias_term(x_values_tranposed, 0);\n",
    "    let decorrelated_x_features = decorrelate_x_features(x_values_tranposed_with_bias);\n",
    "    let coefficients = compute_gradients(\n",
    "        decorrelated_x_features, dataset.y_values, x_values_tranposed_with_bias\n",
    "    );\n",
    "    return MultipleLinearRegressionModel { coefficients };\n",
    "}\n",
    "\n",
    "//Adds bias term to features based on axis\n",
    "fn add_bias_term(x_feature: Tensor<FP16x16>, axis: u32) -> Tensor<FP16x16> {\n",
    "    let mut x_feature_ = x_feature;\n",
    "    let mut tensor_with_bias = TensorTrait::<\n",
    "        FP16x16\n",
    "    >::new(shape: array![1].span(), data: array![FixedTrait::new(10, false)].span());\n",
    "    let mut result = ArrayTrait::<FP16x16>::new();\n",
    "    // check if feature data has multiple rows and columns\n",
    "    if x_feature.shape.len() > 1 {\n",
    "        let mut index: u32 = 0;\n",
    "        if axis == 1 {\n",
    "            index = 0;\n",
    "        } else {\n",
    "            index = 1;\n",
    "        }\n",
    "        let data_len = *x_feature.shape.at(index); // 50\n",
    "        let mut i: u32 = 0;\n",
    "        loop {\n",
    "            if i >= data_len {\n",
    "                break ();\n",
    "            }\n",
    "            result\n",
    "                .append(FixedTrait::new(65536, false)); //65536=ONE in FP16x16, change accordingly  \n",
    "            i += 1;\n",
    "        };\n",
    "        if axis == 0 {\n",
    "            let res_tensor = TensorTrait::new(\n",
    "                shape: array![1, data_len].span(), data: result.span()\n",
    "            );\n",
    "            tensor_with_bias =\n",
    "                TensorTrait::concat(tensors: array![x_feature, res_tensor].span(), axis: axis);\n",
    "        } else {\n",
    "            let res_tensor = TensorTrait::new(\n",
    "                shape: array![data_len, 1].span(), data: result.span()\n",
    "            );\n",
    "            tensor_with_bias =\n",
    "                TensorTrait::concat(tensors: array![x_feature, res_tensor].span(), axis: axis);\n",
    "        }\n",
    "    }\n",
    "    // check if feature data is 1D\n",
    "    if x_feature.shape.len() == 1 {\n",
    "        let mut j: u32 = 0;\n",
    "        loop {\n",
    "            match x_feature_.data.pop_front() {\n",
    "                Option::Some(x_val) => {\n",
    "                    result.append(*x_val);\n",
    "                    j += 1;\n",
    "                },\n",
    "                Option::None(_) => { break; }\n",
    "            };\n",
    "        };\n",
    "        result.append(FixedTrait::new(65536, false)); //65536=ONE in FP16x16, change accordingly  \n",
    "        tensor_with_bias =\n",
    "            TensorTrait::<FP16x16>::new(shape: array![result.len()].span(), data: result.span());\n",
    "    }\n",
    "    return tensor_with_bias;\n",
    "}\n",
    "\n",
    "// decorrelates the feature data (*only the last tensor row of the decorelated feature data will be fully orthogonal)\n",
    "fn decorrelate_x_features(x_feature_data: Tensor<FP16x16>) -> Tensor<FP16x16> {\n",
    "    let mut input_tensor = x_feature_data;\n",
    "\n",
    "    let mut i: u32 = 0;\n",
    "    loop {\n",
    "        if i >= *x_feature_data.shape.at(0) {\n",
    "            break ();\n",
    "        }\n",
    "        let mut placeholder = ArrayTrait::<FP16x16>::new();\n",
    "        let mut feature_row_values = get_tensor_data_by_row(input_tensor, i);\n",
    "        let mut feature_squared = feature_row_values.matmul(@feature_row_values);\n",
    "        // avoiding division by zero errors\n",
    "        if *feature_squared.data.at(0) == FixedTrait::new(0, false) {\n",
    "            feature_squared =\n",
    "                TensorTrait::<\n",
    "                    FP16x16\n",
    "                >::new(shape: array![1].span(), data: array![FixedTrait::new(10, false)].span());\n",
    "        }\n",
    "        // loop throgh remaining tensor data and remove the individual tensor factors from one another \n",
    "        let mut j: u32 = i + 1;\n",
    "        loop {\n",
    "            if j >= *x_feature_data.shape.at(0) {\n",
    "                break ();\n",
    "            }\n",
    "            let mut remaining_tensor_values = get_tensor_data_by_row(input_tensor, j);\n",
    "            let feature_cross_product = feature_row_values.matmul(@remaining_tensor_values);\n",
    "            let feature_gradients = feature_cross_product / feature_squared;\n",
    "            remaining_tensor_values = remaining_tensor_values\n",
    "                - (feature_row_values\n",
    "                    * feature_gradients); //remove the feature factors from one another\n",
    "            // loop and append the modifieed remaining_tensor_values (after the corelated factor has been removed) to placeholder array\n",
    "            let mut k: u32 = 0;\n",
    "            loop {\n",
    "                if k >= remaining_tensor_values.data.len() {\n",
    "                    break ();\n",
    "                }\n",
    "                placeholder.append(*remaining_tensor_values.data.at(k));\n",
    "                k += 1;\n",
    "            };\n",
    "\n",
    "            j += 1;\n",
    "        };\n",
    "        // convert placeholder array to tensor format and update the original tensor with the new modified decorrelated tensor row values\n",
    "        let mut decorrelated_tensor = TensorTrait::new(\n",
    "            shape: array![*x_feature_data.shape.at(0) - 1 - i, *x_feature_data.shape.at(1)].span(),\n",
    "            data: placeholder.span()\n",
    "        );\n",
    "        let mut original_tensor = input_tensor\n",
    "            .slice(\n",
    "                starts: array![0, 0].span(),\n",
    "                ends: array![i + 1, *x_feature_data.shape.at(1)].span(),\n",
    "                axes: Option::None(()),\n",
    "                steps: Option::Some(array![1, 1].span())\n",
    "            );\n",
    "        input_tensor =\n",
    "            TensorTrait::concat(\n",
    "                tensors: array![original_tensor, decorrelated_tensor].span(), axis: 0\n",
    "            );\n",
    "        i += 1;\n",
    "    };\n",
    "    return input_tensor;\n",
    "}\n",
    "\n",
    "// computes the corresponding MLR gradient using decorrelated feature\n",
    "fn compute_gradients(\n",
    "    decorrelated_x_features: Tensor<FP16x16>,\n",
    "    y_values: Tensor<FP16x16>,\n",
    "    original_x_tensor_values: Tensor<FP16x16>\n",
    ") -> Tensor<FP16x16> {\n",
    "    let mut gradient_values_flipped = TensorTrait::<\n",
    "        FP16x16\n",
    "    >::new(shape: array![1].span(), data: array![FixedTrait::new(10, false)].span());\n",
    "\n",
    "    let mut result = ArrayTrait::<FP16x16>::new();\n",
    "    let mut tensor_y_vals = y_values;\n",
    "    let mut i: u32 = *decorrelated_x_features.shape.at(0);\n",
    "    // loop through Decorrelated_x_features starting from the fully orthogonlised last tensor row value\n",
    "    loop {\n",
    "        if i <= 0 {\n",
    "            break ();\n",
    "        }\n",
    "        let index_val = i - 1;\n",
    "        let mut decorelated_feature_row_values = get_tensor_data_by_row(\n",
    "            decorrelated_x_features, index_val\n",
    "        ); // 50 vals\n",
    "        let mut decorelated_features_squared = decorelated_feature_row_values\n",
    "            .matmul(@decorelated_feature_row_values);\n",
    "        let mut feature_label_cross_product = tensor_y_vals\n",
    "            .matmul(@decorelated_feature_row_values); // multiply the tensors\n",
    "        // avoiding division by zero errors\n",
    "        if *decorelated_features_squared.data.at(0) == FixedTrait::new(0, false) {\n",
    "            decorelated_features_squared =\n",
    "                TensorTrait::<\n",
    "                    FP16x16\n",
    "                >::new(shape: array![1].span(), data: array![FixedTrait::new(10, false)].span());\n",
    "        }\n",
    "        // computing the feature gradient values using the y values and decorrelated x features and appending to array\n",
    "        let mut single_gradient_value = feature_label_cross_product\n",
    "            / decorelated_features_squared; // devide the summed value by each other\n",
    "        result.append(*single_gradient_value.data.at(0));\n",
    "        // remove the assosciated feature gradient value away from y values\n",
    "        let mut original_x_tensor_row_values = get_tensor_data_by_row(\n",
    "            original_x_tensor_values, index_val\n",
    "        );\n",
    "        tensor_y_vals = tensor_y_vals\n",
    "            - (original_x_tensor_row_values\n",
    "                * single_gradient_value); //remove the first feature from second feature values\n",
    "        i -= 1;\n",
    "    };\n",
    "    // convert the gradient array to tensor format\n",
    "    let final_gradients = TensorTrait::new(\n",
    "        shape: array![*decorrelated_x_features.shape.at(0)].span(), data: result.span()\n",
    "    );\n",
    "\n",
    "    let mut reverse_grad_array = ArrayTrait::<FP16x16>::new();\n",
    "    let mut data_len: u32 = final_gradients.data.len();\n",
    "    loop {\n",
    "        if data_len <= 0 {\n",
    "            break ();\n",
    "        }\n",
    "        let temp_val = data_len - 1;\n",
    "        reverse_grad_array.append(*final_gradients.data.at(temp_val));\n",
    "        data_len -= 1;\n",
    "    };\n",
    "    // convert gradient values to tensor format\n",
    "    let gradient_values_flipped = TensorTrait::<\n",
    "        FP16x16\n",
    "    >::new(shape: array![reverse_grad_array.len()].span(), data: reverse_grad_array.span());\n",
    "\n",
    "    return gradient_values_flipped;\n",
    "}\n",
    "\n",
    "\n"
   ]
  },
  {
   "cell_type": "code",
   "execution_count": 46,
   "id": "6b37fbe5",
   "metadata": {},
   "outputs": [],
   "source": [
    "! touch multiple_linear_regression_aave/src/model.cairo"
   ]
  },
  {
   "cell_type": "code",
   "execution_count": 47,
   "id": "22f961a5",
   "metadata": {},
   "outputs": [
    {
     "name": "stdout",
     "output_type": "stream",
     "text": [
      "Overwriting multiple_linear_regression_aave/src/model.cairo\n"
     ]
    }
   ],
   "source": [
    "%%writefile multiple_linear_regression_aave/src/model.cairo\n",
    "mod multiple_linear_regression_model;"
   ]
  },
  {
   "cell_type": "markdown",
   "id": "8c1f41c6",
   "metadata": {},
   "source": [
    "## Running tests on model\n",
    "\n",
    "Running some checks to ensure the model is performing as expected. Some of the checks involve:\n",
    "- data normalizations checks\n",
    "- tensor shape/dimension check\n",
    "- coefficient value and dimension checks  \n",
    "- model accuracy deviance checks"
   ]
  },
  {
   "cell_type": "code",
   "execution_count": 48,
   "id": "dfb70ccd",
   "metadata": {},
   "outputs": [],
   "source": [
    "! touch multiple_linear_regression_aave/src/test.cairo"
   ]
  },
  {
   "cell_type": "code",
   "execution_count": 49,
   "id": "4dd10050",
   "metadata": {},
   "outputs": [
    {
     "name": "stdout",
     "output_type": "stream",
     "text": [
      "Overwriting multiple_linear_regression_aave/src/test.cairo\n"
     ]
    }
   ],
   "source": [
    "%%writefile multiple_linear_regression_aave/src/test.cairo\n",
    "\n",
    "\n",
    "\n",
    "// use traits::Into;\n",
    "use debug::PrintTrait;\n",
    "use array::{ArrayTrait, SpanTrait};\n",
    "\n",
    "use multiple_linear_regresion::datasets::aave_data::aave_x_features::aave_x_features;\n",
    "use multiple_linear_regresion::datasets::aave_data::aave_y_labels::aave_y_labels; \n",
    "use multiple_linear_regresion::datasets::user_inputs_data::aave_weth_revenue_data_input::{aave_weth_revenue_data_input };  \n",
    "\n",
    "use multiple_linear_regresion::model::multiple_linear_regression_model::{\n",
    "     MultipleLinearRegressionModel, MultipleLinearRegression, MultipleLinearRegressionModelTrait\n",
    "};\n",
    "use multiple_linear_regresion::data_preprocessing::{Dataset, DatasetTrait};\n",
    "use multiple_linear_regresion::helper_functions::{get_tensor_data_by_row, transpose_tensor, calculate_mean , \n",
    "calculate_r_score, normalize_user_x_inputs, rescale_predictions};\n",
    "\n",
    "use orion::numbers::{FP16x16,  FixedTrait};\n",
    "\n",
    "\n",
    "use orion::operators::tensor::{\n",
    "    Tensor, TensorTrait, FP16x16Tensor, U32Tensor, U32TensorAdd, \n",
    "    FP16x16TensorSub, FP16x16TensorAdd, FP16x16TensorDiv, FP16x16TensorMul};\n",
    "\n",
    "#[test]\n",
    "#[available_gas(99999999999999999)]\n",
    "fn multiple_linear_regression_test() {\n",
    "\n",
    "\n",
    "// -------------------------------------------------------------------AAVE dataset tests---------------------------------------------------------------------------------------------\n",
    "\n",
    "let mut main_x_vals = aave_x_features();\n",
    "let mut main_y_vals = aave_y_labels();\n",
    "let mut dataset = Dataset{x_values: main_x_vals,y_values:main_y_vals};\n",
    "let mut normalized_dataset = dataset.normalize_dataset();\n",
    "let mut model = MultipleLinearRegression(normalized_dataset);\n",
    "let mut model_coefficients = model.coefficients;\n",
    "let mut reconstructed_ys = model.predict (normalized_dataset.x_values);\n",
    "let mut r_squared_score = calculate_r_score(normalized_dataset.y_values,reconstructed_ys);\n",
    "r_squared_score.print(); \n",
    "\n",
    "// checking if data has been normalized correctly\n",
    "assert(normalized_dataset.x_values.max_in_tensor() <= FixedTrait::new(65536, false), 'normalized x not between 0-1');\n",
    "assert(normalized_dataset.x_values.min_in_tensor() >= FixedTrait::new(0, false), 'normalized x not between 0-1');\n",
    "assert(normalized_dataset.y_values.max_in_tensor() <= FixedTrait::new(65536, false), 'normalized y not between 0-1');\n",
    "assert(normalized_dataset.x_values.min_in_tensor() >= FixedTrait::new(0, false), 'normalized y not between 0-1');\n",
    "// performing checks on the shape of normalized data\n",
    "assert(normalized_dataset.x_values.data.len()== main_x_vals.data.len() && \n",
    "normalized_dataset.y_values.data.len()== main_y_vals.data.len() , 'normalized data shape mismatch');\n",
    "// performing checks on shape on coefficient values (gradient vals + bias)\n",
    "assert(model.coefficients.data.len() == *main_x_vals.shape.at(1)+1, 'coefficient data shape mismatch');\n",
    "// model accuracy deviance checks\n",
    "assert(r_squared_score >= FixedTrait::new(62259, false), 'AAVE model acc. less than 95%');\n",
    "\n",
    "// using model to forecast aave's 7 day WETH lifetime repayments forecast \n",
    "let last_7_days_aave_data = aave_weth_revenue_data_input();\n",
    "let last_7_days_aave_data_normalized = normalize_user_x_inputs(last_7_days_aave_data, main_x_vals );\n",
    "let mut forecast_results  = model.predict (last_7_days_aave_data_normalized); \n",
    "let mut rescale_forecasts = rescale_predictions(forecast_results, main_y_vals);  // PS. ** the rescaled forecasted ouputs are in denominated thousands of ETH\n",
    "(*rescale_forecasts.data.at(0)).print(); \n",
    "(*rescale_forecasts.data.at(1)).print(); \n",
    "(*rescale_forecasts.data.at(2)).print(); \n",
    "(*rescale_forecasts.data.at(5)).print(); \n",
    "(*rescale_forecasts.data.at(6)).print(); \n",
    "}\n"
   ]
  },
  {
   "cell_type": "code",
   "execution_count": null,
   "id": "4ae8fd10",
   "metadata": {},
   "outputs": [],
   "source": []
  }
 ],
 "metadata": {
  "kernelspec": {
   "display_name": "Python 3 (ipykernel)",
   "language": "python",
   "name": "python3"
  },
  "language_info": {
   "codemirror_mode": {
    "name": "ipython",
    "version": 3
   },
   "file_extension": ".py",
   "mimetype": "text/x-python",
   "name": "python",
   "nbconvert_exporter": "python",
   "pygments_lexer": "ipython3",
   "version": "3.11.4"
  }
 },
 "nbformat": 4,
 "nbformat_minor": 5
}
