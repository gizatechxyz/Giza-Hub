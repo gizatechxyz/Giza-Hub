{
 "cells": [
  {
   "cell_type": "markdown",
   "metadata": {},
   "source": [
    "# Giza Agents Setup Tutorial\n"
   ]
  },
  {
   "cell_type": "markdown",
   "metadata": {},
   "source": [
    "**In this notebook, we are going to go over the instructions on how to use the giza stack to create our Giza Agents project from scratch.**\n"
   ]
  },
  {
   "cell_type": "markdown",
   "metadata": {},
   "source": [
    "> *It is assumed that you have succesfully created and trained your ML model, and imported it as one of the [integrated model formats](https://docs.gizatech.xyz/products/platform/model-compatibility). If not, go to the model notebook and run it.*\n"
   ]
  },
  {
   "cell_type": "markdown",
   "metadata": {
    "vscode": {
     "languageId": "plaintext"
    }
   },
   "source": [
    "## Table of Contents: \n",
    "1) Create a new virtual environment \n",
    "2) Installing Giza-SDK and other dependencies \n",
    "3) Giza Users Account creation and login\n",
    "4) Model transpilation\n",
    "5) ZKML Endpoint creation\n",
    "6) Ape Account\n",
    "7) Giza Agent creation "
   ]
  },
  {
   "cell_type": "markdown",
   "metadata": {},
   "source": [
    "## 1) Create a new virtual environment"
   ]
  },
  {
   "cell_type": "markdown",
   "metadata": {},
   "source": [
    "It is strongly recommended to create a new python virtual environment to avoid any potential dependency issues. Our giza-sdk is developed and tested for Python version 3.11.0, so lets create a new virtual environment with the correct Python version."
   ]
  },
  {
   "cell_type": "markdown",
   "metadata": {},
   "source": [
    "To learn more about Python virtual environments, check this [resource](https://packaging.python.org/en/latest/guides/installing-using-pip-and-virtual-environments/)."
   ]
  },
  {
   "cell_type": "markdown",
   "metadata": {},
   "source": [
    "### Install Python 3.11.0\n",
    "\n",
    "*You can skip this step if you already have Python 3.11.0 installed*"
   ]
  },
  {
   "cell_type": "markdown",
   "metadata": {},
   "source": [
    "> *We recommend [Pyenv](https://github.com/pyenv/pyenv) to simplify Python version management.*"
   ]
  },
  {
   "cell_type": "markdown",
   "metadata": {},
   "source": [
    "To install Python 3.11.0 in your local computer with Pyenv, simply execute the following command:"
   ]
  },
  {
   "cell_type": "code",
   "execution_count": null,
   "metadata": {
    "vscode": {
     "languageId": "shellscript"
    }
   },
   "outputs": [],
   "source": [
    "! pyenv install 3.11.0"
   ]
  },
  {
   "cell_type": "markdown",
   "metadata": {},
   "source": [
    "### Create the virtual environment"
   ]
  },
  {
   "cell_type": "markdown",
   "metadata": {},
   "source": [
    "There are two options to create a new python enviroment:\n"
   ]
  },
  {
   "cell_type": "markdown",
   "metadata": {},
   "source": [
    "#### Create a new virtual enviroment using Pyenv"
   ]
  },
  {
   "cell_type": "markdown",
   "metadata": {},
   "source": [
    "The first command creates a new virtual enviroment instance using the correct Python version. \n",
    "\n",
    "> Make sure to change my-env to your preffered virtual enviroment name.*"
   ]
  },
  {
   "cell_type": "code",
   "execution_count": null,
   "metadata": {
    "vscode": {
     "languageId": "shellscript"
    }
   },
   "outputs": [],
   "source": [
    "! pyenv virtualenv 3.11.0 my-env"
   ]
  },
  {
   "cell_type": "markdown",
   "metadata": {},
   "source": [
    "The next commands activates the newly created virtual enviroment in your terminal."
   ]
  },
  {
   "cell_type": "code",
   "execution_count": null,
   "metadata": {
    "vscode": {
     "languageId": "shellscript"
    }
   },
   "outputs": [],
   "source": [
    "! pyenv activate my-env"
   ]
  },
  {
   "cell_type": "markdown",
   "metadata": {
    "vscode": {
     "languageId": "shellscript"
    }
   },
   "source": [
    "#### Create a new virtual enviroment using Poetry"
   ]
  },
  {
   "cell_type": "markdown",
   "metadata": {},
   "source": [
    "*Assuming that you have the correct python version executable in your PATH and have installed [Poetry](https://python-poetry.org/docs/), which we recommend for dependency management. Pyenv automatically puts python executable in your PATH when you install a Python version.*"
   ]
  },
  {
   "cell_type": "code",
   "execution_count": null,
   "metadata": {
    "vscode": {
     "languageId": "shellscript"
    }
   },
   "outputs": [],
   "source": [
    "! poetry env use 3.11.0\n",
    "# if there are no python versions installed in PATH, you can use the following command:\n",
    "# ! poetry env use /path/to/python"
   ]
  },
  {
   "cell_type": "markdown",
   "metadata": {},
   "source": [
    "#### Create a new virtual enviroment using Venv"
   ]
  },
  {
   "cell_type": "markdown",
   "metadata": {},
   "source": [
    "To create the virtual environment, execute the following command."
   ]
  },
  {
   "cell_type": "code",
   "execution_count": null,
   "metadata": {
    "vscode": {
     "languageId": "shellscript"
    }
   },
   "outputs": [],
   "source": [
    "! python3.11 -m venv my-env"
   ]
  },
  {
   "cell_type": "markdown",
   "metadata": {},
   "source": [
    "We also need to activate the newly created virtual environment"
   ]
  },
  {
   "cell_type": "code",
   "execution_count": null,
   "metadata": {},
   "outputs": [],
   "source": [
    "! source my-env/bin/activate"
   ]
  },
  {
   "cell_type": "markdown",
   "metadata": {},
   "source": [
    "## 2) Installing Giza-SDK and other dependencies "
   ]
  },
  {
   "cell_type": "markdown",
   "metadata": {},
   "source": [
    "*Our tutorials come with a pyproject.toml file, that allows Poetry users to easily install the correct versions of the libraries with one command. We strongly recommend users to use Poetry to avoid any dependency management or versioning issues.* "
   ]
  },
  {
   "cell_type": "markdown",
   "metadata": {},
   "source": [
    "> *You can learn more about Poetry [here](https://python-poetry.org/docs/).*"
   ]
  },
  {
   "cell_type": "markdown",
   "metadata": {},
   "source": [
    "To install giza-sdk and other libraries used in the project using Poetry:"
   ]
  },
  {
   "cell_type": "code",
   "execution_count": null,
   "metadata": {
    "vscode": {
     "languageId": "shellscript"
    }
   },
   "outputs": [],
   "source": [
    "! poetry install"
   ]
  },
  {
   "cell_type": "markdown",
   "metadata": {},
   "source": [
    "Alternatively, to install giza-sdk using pip"
   ]
  },
  {
   "cell_type": "code",
   "execution_count": null,
   "metadata": {
    "vscode": {
     "languageId": "shellscript"
    }
   },
   "outputs": [],
   "source": [
    "! pip install giza-sdk"
   ]
  },
  {
   "cell_type": "markdown",
   "metadata": {},
   "source": [
    "*We have recently unified our libraries, including giza-cli, giza-agents and giza-datasets. By installing giza-sdk, you are downloading all Giza libaries you will need in the project.*"
   ]
  },
  {
   "cell_type": "markdown",
   "metadata": {},
   "source": [
    "## 3) Giza Users Account creation and login\n",
    "\n",
    "> For more information on Giza Users, check out our [documentation](https://docs.gizatech.xyz/products/platform/resources/users)."
   ]
  },
  {
   "cell_type": "markdown",
   "metadata": {},
   "source": [
    "After installing giza-sdk, we can now create a new giza account. This giza account will allow us to transpile models, as well as create ZKML endpoints and agents in the next steps, all managed by the giza account."
   ]
  },
  {
   "cell_type": "code",
   "execution_count": null,
   "metadata": {
    "vscode": {
     "languageId": "shellscript"
    }
   },
   "outputs": [],
   "source": [
    "! giza users create"
   ]
  },
  {
   "cell_type": "markdown",
   "metadata": {},
   "source": [
    "```\n",
    "Enter your username 😎: ege\n",
    "\n",
    "Enter your password 🥷 : (this is a secret)\n",
    "\n",
    "Enter your email 📧: ege@gizatech.xyz\n",
    "\n",
    "User created ✅. Check for a verification email 📧\n",
    "```"
   ]
  },
  {
   "cell_type": "markdown",
   "metadata": {},
   "source": [
    "Great, after email verification, we can log in!"
   ]
  },
  {
   "cell_type": "code",
   "execution_count": null,
   "metadata": {
    "vscode": {
     "languageId": "shellscript"
    }
   },
   "outputs": [],
   "source": [
    "! giza users login"
   ]
  },
  {
   "cell_type": "markdown",
   "metadata": {},
   "source": [
    "```\n",
    "Enter your username 😎: ege\n",
    "Enter your password 🥷 :\n",
    "Log into Giza\n",
    "Credentials written to: /Users/ege/.giza/.credentials.json\n",
    "Successfully logged into Giza ✅\n",
    "```"
   ]
  },
  {
   "cell_type": "markdown",
   "metadata": {},
   "source": [
    "Lastly, lets create a API-Key so that we dont need to login each time we create a new terminal."
   ]
  },
  {
   "cell_type": "code",
   "execution_count": null,
   "metadata": {
    "vscode": {
     "languageId": "shellscript"
    }
   },
   "outputs": [],
   "source": [
    "! giza users create-api-key"
   ]
  },
  {
   "cell_type": "markdown",
   "metadata": {},
   "source": [
    "```\n",
    "Creating API Key ✅ \n",
    "API Key written to: /Users/.....\n",
    "Successfully created API Key. It will be used for future requests ✅ \n",
    "```"
   ]
  },
  {
   "cell_type": "markdown",
   "metadata": {},
   "source": [
    "Perfect, we are ready for transpilation!"
   ]
  },
  {
   "cell_type": "markdown",
   "metadata": {},
   "source": [
    "## 4) Model transpilation\n",
    "\n",
    "> For more information, check our documentation [here](https://docs.gizatech.xyz/products/platform/resources/models)."
   ]
  },
  {
   "cell_type": "markdown",
   "metadata": {},
   "source": [
    "Now that we are logged in, we can use the cli to transform the ML model into a provable cairo model."
   ]
  },
  {
   "cell_type": "markdown",
   "metadata": {},
   "source": [
    "*Make sure to change the model file path and output model path accordingly* "
   ]
  },
  {
   "cell_type": "code",
   "execution_count": null,
   "metadata": {
    "vscode": {
     "languageId": "shellscript"
    }
   },
   "outputs": [],
   "source": [
    "! giza transpile {model_file_path} --output-path {output_model_path} "
   ]
  },
  {
   "cell_type": "markdown",
   "metadata": {},
   "source": [
    "```\n",
    "No model id provided, checking if model exists ✅ \n",
    "Model name is: model_simple\n",
    "Model already exists, using existing model ✅ \n",
    "Model found with id -> 512! ✅\n",
    "Version Created with id -> 5! ✅\n",
    "Sending model for transpilation ✅ \n",
    "Transpilation is fully compatible. Version compiled and Sierra is saved at Giza ✅\n",
    "Downloading model ✅\n",
    "model saved at: provable_model\n",
    "```"
   ]
  },
  {
   "cell_type": "markdown",
   "metadata": {},
   "source": [
    "Its that easy! Now, its interesting to take a look at the newly created cairo model folder, where we see the same model we have developed in the previous notebook, but written in Cairo. Its quickly realize however, that there are some differences, such as the model parameters being stored layer-wise in their respective folders. For more information, check out the Orion Docs: https://orion.gizatech.xyz/welcome/readme"
   ]
  },
  {
   "cell_type": "markdown",
   "metadata": {},
   "source": [
    "Great, lets deploy the model and create a ZKML endpoint!"
   ]
  },
  {
   "cell_type": "markdown",
   "metadata": {},
   "source": [
    "## 5) ZKML Endpoint creation\n",
    "\n",
    "> To learn more about ZKML endpoints, check the resources [here](https://docs.gizatech.xyz/products/platform/resources/endpoints)."
   ]
  },
  {
   "cell_type": "markdown",
   "metadata": {},
   "source": [
    "**The model-id and the version are printed after a succesful transpilation with the giza CLI. Lets use the id's we have from the previous steps, but change the values accordingly.**"
   ]
  },
  {
   "cell_type": "code",
   "execution_count": null,
   "metadata": {
    "vscode": {
     "languageId": "shellscript"
    }
   },
   "outputs": [],
   "source": [
    "! giza endpoints deploy --model-id 512 --version-id 5"
   ]
  },
  {
   "cell_type": "markdown",
   "metadata": {},
   "source": [
    "```\n",
    "Endpoint is successful ✅\n",
    "Endpoint created with id -> 176 ✅\n",
    "Endpoint created with endpoint URL: https://endpoint-ege-512-3-aaee5a87-7i3yxzspbq-ew.a.run.app 🎉🎉\n",
    "```"
   ]
  },
  {
   "cell_type": "markdown",
   "metadata": {},
   "source": [
    "## 6) Ape Account"
   ]
  },
  {
   "cell_type": "markdown",
   "metadata": {
    "vscode": {
     "languageId": "plaintext"
    }
   },
   "source": [
    "Giza Agents leverage Ape Wallet as the underlying wallet framework, which provides incredible benefits such as being able to interact with Smart Contracts with pure Python. Lastly, we will need a Ape Account to be able to our agents, so lets create one!"
   ]
  },
  {
   "cell_type": "markdown",
   "metadata": {},
   "source": [
    "> Read more about Ape Accounts [here](https://docs.gizatech.xyz/products/ai-agents/how-to-guides/create-an-account-wallet)."
   ]
  },
  {
   "cell_type": "markdown",
   "metadata": {},
   "source": [
    "We need to have eth-ape package installed to create the ape account. Installing giza-sdk also installs eth-ape, so we dont need to manually install eth-ape. Change account_name to your preference. "
   ]
  },
  {
   "cell_type": "markdown",
   "metadata": {},
   "source": [
    "*We strongly recommend you to create a new Ape Account for each new agent, since that will allow you to customize and manage permissions more effectively.*"
   ]
  },
  {
   "cell_type": "code",
   "execution_count": null,
   "metadata": {
    "vscode": {
     "languageId": "shellscript"
    }
   },
   "outputs": [],
   "source": [
    "! ape accounts generate {account_name}"
   ]
  },
  {
   "cell_type": "markdown",
   "metadata": {},
   "source": [
    "```\n",
    "Enhance the security of your account by adding additional random input:\n",
    "Show mnemonic? [Y/n]: n\n",
    "Create Passphrase to encrypt account:\n",
    "Repeat for confirmation:\n",
    "SUCCESS: A new account '0x766867bB2E3E1A6E6245F4930b47E9aF54cEba0C' with HDPath m/44'/60'/0'/0/0 has been added with the id 'account_name'\n",
    "```"
   ]
  },
  {
   "cell_type": "markdown",
   "metadata": {
    "vscode": {
     "languageId": "shellscript"
    }
   },
   "source": [
    "To login to our Ape Account with the Giza Agent, we need to have the passphrase in an .env file within our project."
   ]
  },
  {
   "cell_type": "markdown",
   "metadata": {},
   "source": [
    "To correctly access the passphrase, create a new .env file and make sure to name the variable in the following format:"
   ]
  },
  {
   "cell_type": "code",
   "execution_count": null,
   "metadata": {
    "vscode": {
     "languageId": "shellscript"
    }
   },
   "outputs": [],
   "source": [
    "{ACCOUNT-NAME}_PASSPHRASE=\"{ape_passphrase}\""
   ]
  },
  {
   "cell_type": "markdown",
   "metadata": {},
   "source": [
    "Now we can create the Giza Agents!"
   ]
  },
  {
   "cell_type": "markdown",
   "metadata": {},
   "source": [
    "## 7) Giza Agent creation"
   ]
  },
  {
   "cell_type": "markdown",
   "metadata": {
    "vscode": {
     "languageId": "plaintext"
    }
   },
   "source": [
    "> You can learn more about Giza Agents [here](https://docs.gizatech.xyz/products/platform/resources/agents)."
   ]
  },
  {
   "cell_type": "markdown",
   "metadata": {},
   "source": [
    "Giza Agents act as intermediaries between the ZKML models and onchain entities such as Smart Contracts. We recommend to write the agent logic in a seperate file, however we will use the agent_ID we get from the creation step to use them later on. Make sure to change agent_name and agent_description accordingly. Note that we need both the account_username and the endpoint_id we have created from the ape account creation and endpoint creation steps, respectively."
   ]
  },
  {
   "cell_type": "code",
   "execution_count": null,
   "metadata": {
    "vscode": {
     "languageId": "shellscript"
    }
   },
   "outputs": [],
   "source": [
    "! giza agents create --endpoint-id 176 --name {agent_name} --description {agent_description}"
   ]
  },
  {
   "cell_type": "markdown",
   "metadata": {
    "vscode": {
     "languageId": "plaintext"
    }
   },
   "source": [
    "```\n",
    "Creating agent ✅ \n",
    "Using endpoint id to create agent, retrieving model id and version id\n",
    "Select an existing account to create the agent.\n",
    "Available accounts are:\n",
    "┏━━━━━━━━━━━━━━━━┓\n",
    "┃    Accounts    ┃\n",
    "┡━━━━━━━━━━━━━━━━┩\n",
    "│ {account_name} │\n",
    "└────────────────┘\n",
    "Enter the account name: {account_name}\n",
    "{\n",
    "  \"id\": 15,\n",
    "  \"name\": \"{agent_name}\",\n",
    "  \"description\": \"{agent_description}\",\n",
    "  \"parameters\": {\n",
    "    \"model_id\": 512,\n",
    "    \"version_id\": 5,\n",
    "    \"endpoint_id\": 212,\n",
    "    \"account\": \"{account_name}\"\n",
    "  },\n",
    "  \"created_date\": \"2024-05-23T12:58:45.943542\",\n",
    "  \"last_update\": \"2024-05-23T12:58:45.943542\"\n",
    "}\n",
    "```"
   ]
  },
  {
   "cell_type": "markdown",
   "metadata": {},
   "source": [
    "Thats all we need to create and deploy the agent! We can now focus on implementing the agent logic in a seperate file."
   ]
  }
 ],
 "metadata": {
  "kernelspec": {
   "display_name": "aave_liquiditation_model-m2euP33O-py3.11",
   "language": "python",
   "name": "python3"
  },
  "language_info": {
   "codemirror_mode": {
    "name": "ipython",
    "version": 3
   },
   "file_extension": ".py",
   "mimetype": "text/x-python",
   "name": "python",
   "nbconvert_exporter": "python",
   "pygments_lexer": "ipython3",
   "version": "3.11.0"
  }
 },
 "nbformat": 4,
 "nbformat_minor": 2
}
