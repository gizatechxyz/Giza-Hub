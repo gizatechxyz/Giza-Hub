{
 "cells": [
  {
   "cell_type": "markdown",
   "metadata": {},
   "source": [
    "# Transpilation and Actions\n"
   ]
  },
  {
   "cell_type": "markdown",
   "metadata": {},
   "source": [
    "**In this notebook, we are going to go over the instructions on how to use the giza-cli to manage accounts and transpile models to make them verifiable.**\n"
   ]
  },
  {
   "cell_type": "markdown",
   "metadata": {},
   "source": [
    "*It is assumed that you have succesfully created and trained the yield prediction model, and imported it as a .onnx file. If not, go to the yield_prediction_model.ipynb notebook and run it.*\n"
   ]
  },
  {
   "cell_type": "markdown",
   "metadata": {},
   "source": [
    "## 1) Giza Users\n",
    "\n",
    "Documentation: https://cli.gizatech.xyz/resources/users"
   ]
  },
  {
   "cell_type": "markdown",
   "metadata": {},
   "source": [
    "Create an account to use the giza cli"
   ]
  },
  {
   "cell_type": "markdown",
   "metadata": {},
   "source": [
    "```bash\n",
    "$ giza users create\n",
    "```\n",
    "\n",
    "```\n",
    "Enter your username 😎: ege\n",
    "\n",
    "Enter your password 🥷 : (this is a secret)\n",
    "\n",
    "Enter your email 📧: ege@gizatech.xyz\n",
    "\n",
    "[giza][2024-01-23 12:29:41.417] User created ✅. Check for a verification email 📧\n",
    "```"
   ]
  },
  {
   "cell_type": "markdown",
   "metadata": {},
   "source": [
    "Great, after email verification, we can log in!"
   ]
  },
  {
   "cell_type": "markdown",
   "metadata": {},
   "source": [
    "```bash\n",
    "$ giza users login\n",
    "```\n",
    "```\n",
    "Enter your username 😎: ege\n",
    "Enter your password 🥷 :\n",
    "[giza][2023-07-12 10:52:25.199] Log into Giza\n",
    "[giza][2023-07-12 10:52:46.998] Credentials written to: /Users/ege/.giza/.credentials.json\n",
    "[giza][2023-07-12 10:52:47.000] Successfully logged into Giza ✅\n",
    "```"
   ]
  },
  {
   "cell_type": "markdown",
   "metadata": {},
   "source": [
    "Lastly, lets create a API-Key"
   ]
  },
  {
   "cell_type": "markdown",
   "metadata": {},
   "source": [
    "```bash\n",
    "$ giza users create-api-key\n",
    "```\n",
    "```\n",
    "[giza][2024-01-17 15:27:27.936] Creating API Key ✅ \n",
    "[giza][2024-01-17 15:27:53.605] API Key written to: /Users/.....\n",
    "[giza][2024-01-17 15:27:53.606] Successfully created API Key. It will be used for future requests ✅ \n",
    "```"
   ]
  },
  {
   "cell_type": "markdown",
   "metadata": {},
   "source": [
    "Perfect, we are ready for transpilation!"
   ]
  },
  {
   "cell_type": "markdown",
   "metadata": {},
   "source": [
    "## 2) Transpilation\n",
    "\n",
    "Docs: https://cli.gizatech.xyz/resources/models"
   ]
  },
  {
   "cell_type": "markdown",
   "metadata": {},
   "source": [
    "Now that we are logged in, we can use the cli to transform the .onnx models into verifiable cairo models."
   ]
  },
  {
   "cell_type": "markdown",
   "metadata": {},
   "source": [
    "```bash\n",
    "$ giza transpile model/model_simple.onnx --output-path weETH_yield_model \n",
    "```\n",
    "```\n",
    "No model id provided, checking if model exists ✅ \n",
    "Model name is: model_simple\n",
    "Model already exists, using existing model ✅ \n",
    "Model found with id -> 512! ✅\n",
    "Version Created with id -> 3! ✅\n",
    "Sending model for transpilation ✅ \n",
    "Transpilation is fully compatible. Version compiled and Sierra is saved at Giza ✅\n",
    "Downloading model ✅\n",
    "model saved at: weETH_yield_model\n",
    "```"
   ]
  },
  {
   "cell_type": "markdown",
   "metadata": {},
   "source": [
    "Its that easy! Now, its interesting to take a look at the newly created cairo model folder, where we see the same model we have developed in the previous notebook, but written in Cairo. Its quickly realize however, that there are some differences, such as the model parameters being stored layer-wise in their respective folders. For more information, check out the Orion Docs: https://orion.gizatech.xyz/welcome/readme"
   ]
  },
  {
   "cell_type": "markdown",
   "metadata": {},
   "source": [
    "![folder_structure](../images/folder_structure.png)"
   ]
  },
  {
   "cell_type": "markdown",
   "metadata": {},
   "source": [
    "Now its time to create a new workspace."
   ]
  },
  {
   "cell_type": "markdown",
   "metadata": {},
   "source": [
    "## 3) Workspaces\n",
    "\n",
    "Docs: https://cli.gizatech.xyz/resources/workspaces"
   ]
  },
  {
   "cell_type": "markdown",
   "metadata": {},
   "source": [
    "```bash\n",
    "$ giza workspaces create\n",
    "```\n",
    "```\n",
    "[giza][2024-01-17 14:40:02.046] Creating Workspace ✅ \n",
    "[WARNING][2024-01-17 14:40:02.047] This process can take up to 10 minutes ⏳\n",
    "[giza][2024-01-17 14:41:51.248] Waiting for workspace creation...\n",
    "[giza][2024-01-17 14:43:12.291] Workspace status is 'PROCESSING'\n",
    "[giza][2024-01-17 14:45:54.365] Worksace creation is successful ✅\n",
    "[giza][2024-01-17 14:45:54.366] ✅ Workspace URL: https://actions-server-ege-gageadsga-ew.a.run.app \n",
    "```"
   ]
  },
  {
   "cell_type": "markdown",
   "metadata": {},
   "source": [
    "Great, lets deploy the model!"
   ]
  },
  {
   "cell_type": "markdown",
   "metadata": {},
   "source": [
    "## 4) Model Deployment\n",
    "\n",
    "Docs: https://cli.gizatech.xyz/resources/deployments"
   ]
  },
  {
   "cell_type": "markdown",
   "metadata": {},
   "source": [
    "**The model-id and the version we can easily get from the output of the transpilation**"
   ]
  },
  {
   "cell_type": "markdown",
   "metadata": {},
   "source": [
    "```bash\n",
    "giza endpoints deploy --model-id 512 --version-id 3\n",
    "```\n",
    "```\n",
    "Endpoint is successful ✅\n",
    "Endpoint created with id -> 176 ✅\n",
    "Endpoint created with endpoint URL: https://endpoint-ege-512-3-aaee5a87-7i3yxzspbq-ew.a.run.app 🎉🎉\n",
    "```"
   ]
  },
  {
   "cell_type": "markdown",
   "metadata": {},
   "source": [
    "Time to reap the rewards!"
   ]
  },
  {
   "cell_type": "markdown",
   "metadata": {},
   "source": [
    "## 5) Giza Agents"
   ]
  },
  {
   "cell_type": "markdown",
   "metadata": {
    "vscode": {
     "languageId": "plaintext"
    }
   },
   "source": [
    "Docs : https://agents.gizatech.xyz/concepts/agent"
   ]
  },
  {
   "cell_type": "markdown",
   "metadata": {
    "vscode": {
     "languageId": "plaintext"
    }
   },
   "source": [
    "```bash\n",
    "giza agents create --endpoint-id 176 --name pendle_agent --description PT_SY_trading_agent\n",
    "```\n",
    "```\n",
    "[giza][2024-05-05 15:09:30.407] Creating agent ✅ \n",
    "[giza][2024-05-05 15:09:30.408] Using endpoint id to create agent, retrieving model id and version id\n",
    "[giza][2024-05-05 15:09:30.591] Select an existing account to create the agent.\n",
    "[giza][2024-05-05 15:09:30.592] Available accounts are:\n",
    "┏━━━━━━━━━━━━━━━━┓\n",
    "┃    Accounts    ┃\n",
    "┡━━━━━━━━━━━━━━━━┩\n",
    "│  pendle-agent  │\n",
    "└────────────────┘\n",
    "Enter the account name: pendle-agent\n",
    "{\n",
    "  \"id\": 5,\n",
    "  \"name\": \"pendle_agent\",\n",
    "  \"description\": \"PT_SY_trading_agent\",\n",
    "  \"parameters\": {\n",
    "    \"model_id\": 512,\n",
    "    \"version_id\": 3,\n",
    "    \"endpoint_id\": 176,\n",
    "    \"account\": \"pendle-agent\"\n",
    "  },\n",
    "  \"created_date\": \"2024-05-05T13:09:45.055078\",\n",
    "  \"last_update\": \"2024-05-05T13:09:45.055078\"\n",
    "}\n",
    "```"
   ]
  },
  {
   "cell_type": "markdown",
   "metadata": {
    "vscode": {
     "languageId": "plaintext"
    }
   },
   "source": [
    "Perfect, now we can start developing the agent logic!"
   ]
  }
 ],
 "metadata": {
  "kernelspec": {
   "display_name": "aave_liquiditation_model-m2euP33O-py3.11",
   "language": "python",
   "name": "python3"
  },
  "language_info": {
   "codemirror_mode": {
    "name": "ipython",
    "version": 3
   },
   "file_extension": ".py",
   "mimetype": "text/x-python",
   "name": "python",
   "nbconvert_exporter": "python",
   "pygments_lexer": "ipython3",
   "version": "3.11.0"
  }
 },
 "nbformat": 4,
 "nbformat_minor": 2
}
