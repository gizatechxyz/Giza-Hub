{
 "cells": [
  {
   "cell_type": "markdown",
   "metadata": {},
   "source": [
    "# Transpilation and Actions\n"
   ]
  },
  {
   "cell_type": "markdown",
   "metadata": {},
   "source": [
    "**In this notebook, we are going to go over the instructions on how to use the giza-cli to manage accounts and transpile models. \n",
    "Following the transpilation, we are going to use the giza-actions to make the model verifiable!**\n"
   ]
  },
  {
   "cell_type": "markdown",
   "metadata": {},
   "source": [
    "*It is assumed that you have succesfully created and trained the liquidation prediction model, and imported it as a .onnx file. If not, go to the aave_liquidations_model.ipynb notebook and run it.*\n"
   ]
  },
  {
   "cell_type": "markdown",
   "metadata": {},
   "source": [
    "## 1) Giza Users\n",
    "\n",
    "Documentation: https://cli.gizatech.xyz/resources/users"
   ]
  },
  {
   "cell_type": "markdown",
   "metadata": {},
   "source": [
    "Create an account to use the giza cli"
   ]
  },
  {
   "cell_type": "markdown",
   "metadata": {},
   "source": [
    "```bash\n",
    "$ giza users create\n",
    "```\n",
    "\n",
    "```\n",
    "Enter your username 😎: ege\n",
    "\n",
    "Enter your password 🥷 : (this is a secret)\n",
    "\n",
    "Enter your email 📧: ege@gizatech.xyz\n",
    "\n",
    "[giza][2024-01-23 12:29:41.417] User created ✅. Check for a verification email 📧\n",
    "```"
   ]
  },
  {
   "cell_type": "markdown",
   "metadata": {},
   "source": [
    "Great, after email verification, we can log in!"
   ]
  },
  {
   "cell_type": "markdown",
   "metadata": {},
   "source": [
    "```bash\n",
    "$ giza users login\n",
    "```\n",
    "```\n",
    "Enter your username 😎: ege\n",
    "Enter your password 🥷 :\n",
    "[giza][2023-07-12 10:52:25.199] Log into Giza\n",
    "[giza][2023-07-12 10:52:46.998] Credentials written to: /Users/ege/.giza/.credentials.json\n",
    "[giza][2023-07-12 10:52:47.000] Successfully logged into Giza ✅\n",
    "```"
   ]
  },
  {
   "cell_type": "markdown",
   "metadata": {},
   "source": [
    "Lastly, lets create a API-Key"
   ]
  },
  {
   "cell_type": "markdown",
   "metadata": {},
   "source": [
    "```bash\n",
    "$ giza users create-api-key\n",
    "```\n",
    "```\n",
    "[giza][2024-01-17 15:27:27.936] Creating API Key ✅ \n",
    "[giza][2024-01-17 15:27:53.605] API Key written to: /Users/.....\n",
    "[giza][2024-01-17 15:27:53.606] Successfully created API Key. It will be used for future requests ✅ \n",
    "```"
   ]
  },
  {
   "cell_type": "markdown",
   "metadata": {},
   "source": [
    "Perfect, we are ready for transpilation!"
   ]
  },
  {
   "cell_type": "markdown",
   "metadata": {},
   "source": [
    "## 2) Transpilation\n",
    "\n",
    "Docs: https://cli.gizatech.xyz/resources/models"
   ]
  },
  {
   "cell_type": "markdown",
   "metadata": {},
   "source": [
    "Now that we are logged in, we can use the cli to transform the .onnx models into verifiable cairo models."
   ]
  },
  {
   "cell_type": "markdown",
   "metadata": {},
   "source": [
    "```bash\n",
    "$ giza transpile model_7day.onnx --output-path liquidation_model_7days\n",
    "```\n",
    "```\n",
    "No model id provided, checking if model exists ✅ \n",
    "Model name is: model_7day\n",
    "Model Created with id -> 294! ✅\n",
    "Version Created with id -> 1! ✅\n",
    "Sending model for transpilation ✅ \n",
    "Transpilation is fully compatible. Version compiled and Sierra is saved at Giza ✅\n",
    "Transpilation recieved! ✅\n",
    "Transpilation saved at: liquidation_model_7days\n",
    "```"
   ]
  },
  {
   "cell_type": "markdown",
   "metadata": {},
   "source": [
    "Its that easy! Now, its interesting to take a look at the newly created cairo model folder, where we see the same model we have developed in the previous notebook, but written in Cairo. Its quickly realize however, that there are some differences, such as the model parameters being stored layer-wise in their respective folders. For more information, check out the Orion Docs: https://orion.gizatech.xyz/welcome/readme"
   ]
  },
  {
   "cell_type": "markdown",
   "metadata": {},
   "source": [
    "![Folder_Structure](images/Screenshot1.png)\n"
   ]
  },
  {
   "cell_type": "markdown",
   "metadata": {},
   "source": [
    "Now its time to create a new workspace."
   ]
  },
  {
   "cell_type": "markdown",
   "metadata": {},
   "source": [
    "## 3) Workspaces\n",
    "\n",
    "Docs: https://cli.gizatech.xyz/resources/workspaces"
   ]
  },
  {
   "cell_type": "markdown",
   "metadata": {},
   "source": [
    "```bash\n",
    "$ giza workspaces create\n",
    "```\n",
    "```\n",
    "[giza][2024-01-17 14:40:02.046] Creating Workspace ✅ \n",
    "[WARNING][2024-01-17 14:40:02.047] This process can take up to 10 minutes ⏳\n",
    "[giza][2024-01-17 14:41:51.248] Waiting for workspace creation...\n",
    "[giza][2024-01-17 14:43:12.291] Workspace status is 'PROCESSING'\n",
    "[giza][2024-01-17 14:45:54.365] Worksace creation is successful ✅\n",
    "[giza][2024-01-17 14:45:54.366] ✅ Workspace URL: https://actions-server-ege-gageadsga-ew.a.run.app \n",
    "```"
   ]
  },
  {
   "cell_type": "markdown",
   "metadata": {},
   "source": [
    "Great, lets deploy the model!"
   ]
  },
  {
   "cell_type": "markdown",
   "metadata": {},
   "source": [
    "## 4) Model Deployment\n",
    "\n",
    "Docs: https://cli.gizatech.xyz/resources/deployments"
   ]
  },
  {
   "cell_type": "markdown",
   "metadata": {},
   "source": [
    "**The model-id and the version we can easily get from the output of the transpilation**"
   ]
  },
  {
   "cell_type": "markdown",
   "metadata": {},
   "source": [
    "```bash\n",
    "$ giza deployments deploy --model-id 294 --version-id 1\n",
    "```\n",
    "```\n",
    "[giza][2024-02-13 16:09:12.428] Deployment is successful ✅\n",
    "[giza][2024-02-13 16:09:12.429] Deployment created with id -> 21 ✅\n",
    "[giza][2024-02-13 16:09:12.430] Deployment created with endpoint URL: https://deployment-ege-294-1-2ddbcbbe-7i3yxzspbq-ew.a.run.app 🎉\n",
    "```"
   ]
  },
  {
   "cell_type": "markdown",
   "metadata": {},
   "source": [
    "Time to reap the rewards!"
   ]
  },
  {
   "cell_type": "markdown",
   "metadata": {},
   "source": [
    "## 5) Verifiable Inference\n",
    "\n",
    "Docs: https://actions.gizatech.xyz/how-to-guides/gizamodel"
   ]
  },
  {
   "cell_type": "code",
   "execution_count": 10,
   "metadata": {},
   "outputs": [],
   "source": [
    "from giza_actions.action import action\n",
    "from giza_actions.task import task\n",
    "from giza_actions.model import GizaModel"
   ]
  },
  {
   "cell_type": "code",
   "execution_count": 7,
   "metadata": {},
   "outputs": [
    {
     "name": "stdout",
     "output_type": "stream",
     "text": [
      "float64\n"
     ]
    }
   ],
   "source": [
    "import numpy as np\n",
    "\n",
    "# Dummy Input\n",
    "file_path = \"data_array.npy\"\n",
    "\n",
    "input = np.load(file_path)\n",
    "\n",
    "print(data_array.dtype)\n"
   ]
  },
  {
   "cell_type": "code",
   "execution_count": 11,
   "metadata": {},
   "outputs": [
    {
     "name": "stderr",
     "output_type": "stream",
     "text": [
      "/Users/egeatesalp/Library/Caches/pypoetry/virtualenvs/aave_liquiditation_model-m2euP33O-py3.11/lib/python3.11/site-packages/prefect/tasks.py:337: UserWarning: A task named 'Prediction Aave Liquidatons' and defined at '/Users/egeatesalp/Library/Caches/pypoetry/virtualenvs/aave_liquiditation_model-m2euP33O-py3.11/lib/python3.11/site-packages/giza_actions/task.py:5' conflicts with another task. Consider specifying a unique `name` parameter in the task definition:\n",
      "\n",
      " `@task(name='my_unique_name', ...)`\n",
      "  warnings.warn(\n",
      "/Users/egeatesalp/Library/Caches/pypoetry/virtualenvs/aave_liquiditation_model-m2euP33O-py3.11/lib/python3.11/site-packages/prefect/flows.py:337: UserWarning: A flow named 'Execution: Aave Liquidatons Prediction ' and defined at '/Users/egeatesalp/Library/Caches/pypoetry/virtualenvs/aave_liquiditation_model-m2euP33O-py3.11/lib/python3.11/site-packages/giza_actions/action.py:16' conflicts with another flow. Consider specifying a unique `name` parameter in the flow definition:\n",
      "\n",
      " `@flow(name='my_unique_name', ...)`\n",
      "  warnings.warn(\n"
     ]
    },
    {
     "data": {
      "text/html": [
       "<pre style=\"white-space:pre;overflow-x:auto;line-height:normal;font-family:Menlo,'DejaVu Sans Mono',consolas,'Courier New',monospace\">17:27:33.221 | <span style=\"color: #008080; text-decoration-color: #008080\">INFO</span>    | prefect.engine - Created flow run<span style=\"color: #800080; text-decoration-color: #800080\"> 'eager-cicada'</span> for flow<span style=\"color: #800080; text-decoration-color: #800080; font-weight: bold\"> 'Execution: Aave Liquidatons Prediction '</span>\n",
       "</pre>\n"
      ],
      "text/plain": [
       "17:27:33.221 | \u001b[36mINFO\u001b[0m    | prefect.engine - Created flow run\u001b[35m 'eager-cicada'\u001b[0m for flow\u001b[1;35m 'Execution: Aave Liquidatons Prediction '\u001b[0m\n"
      ]
     },
     "metadata": {},
     "output_type": "display_data"
    },
    {
     "data": {
      "text/html": [
       "<pre style=\"white-space:pre;overflow-x:auto;line-height:normal;font-family:Menlo,'DejaVu Sans Mono',consolas,'Courier New',monospace\">17:27:33.227 | <span style=\"color: #008080; text-decoration-color: #008080\">INFO</span>    | Flow run<span style=\"color: #800080; text-decoration-color: #800080\"> 'eager-cicada'</span> - View at <span style=\"color: #0000ff; text-decoration-color: #0000ff\">https://actions-server-ege-dblzzhtf5q-ew.a.run.app/flow-runs/flow-run/d393dfb5-826f-4a27-bb34-35cfde916db0</span>\n",
       "</pre>\n"
      ],
      "text/plain": [
       "17:27:33.227 | \u001b[36mINFO\u001b[0m    | Flow run\u001b[35m 'eager-cicada'\u001b[0m - View at \u001b[94mhttps://actions-server-ege-dblzzhtf5q-ew.a.run.app/flow-runs/flow-run/d393dfb5-826f-4a27-bb34-35cfde916db0\u001b[0m\n"
      ]
     },
     "metadata": {},
     "output_type": "display_data"
    },
    {
     "data": {
      "text/html": [
       "<pre style=\"white-space:pre;overflow-x:auto;line-height:normal;font-family:Menlo,'DejaVu Sans Mono',consolas,'Courier New',monospace\">17:27:33.562 | <span style=\"color: #008080; text-decoration-color: #008080\">INFO</span>    | Flow run<span style=\"color: #800080; text-decoration-color: #800080\"> 'eager-cicada'</span> - Created task run 'Prediction Aave Liquidatons-0' for task 'Prediction Aave Liquidatons'\n",
       "</pre>\n"
      ],
      "text/plain": [
       "17:27:33.562 | \u001b[36mINFO\u001b[0m    | Flow run\u001b[35m 'eager-cicada'\u001b[0m - Created task run 'Prediction Aave Liquidatons-0' for task 'Prediction Aave Liquidatons'\n"
      ]
     },
     "metadata": {},
     "output_type": "display_data"
    },
    {
     "data": {
      "text/html": [
       "<pre style=\"white-space:pre;overflow-x:auto;line-height:normal;font-family:Menlo,'DejaVu Sans Mono',consolas,'Courier New',monospace\">17:27:33.563 | <span style=\"color: #008080; text-decoration-color: #008080\">INFO</span>    | Flow run<span style=\"color: #800080; text-decoration-color: #800080\"> 'eager-cicada'</span> - Executing 'Prediction Aave Liquidatons-0' immediately...\n",
       "</pre>\n"
      ],
      "text/plain": [
       "17:27:33.563 | \u001b[36mINFO\u001b[0m    | Flow run\u001b[35m 'eager-cicada'\u001b[0m - Executing 'Prediction Aave Liquidatons-0' immediately...\n"
      ]
     },
     "metadata": {},
     "output_type": "display_data"
    },
    {
     "data": {
      "text/html": [
       "<pre style=\"white-space:pre;overflow-x:auto;line-height:normal;font-family:Menlo,'DejaVu Sans Mono',consolas,'Courier New',monospace\">17:27:35.166 | <span style=\"color: #d70000; text-decoration-color: #d70000\">ERROR</span>   | root - OrionRunner service error: Service Unavailable\n",
       "</pre>\n"
      ],
      "text/plain": [
       "17:27:35.166 | \u001b[38;5;160mERROR\u001b[0m   | root - OrionRunner service error: Service Unavailable\n"
      ]
     },
     "metadata": {},
     "output_type": "display_data"
    },
    {
     "data": {
      "text/html": [
       "<pre style=\"white-space:pre;overflow-x:auto;line-height:normal;font-family:Menlo,'DejaVu Sans Mono',consolas,'Courier New',monospace\">17:27:35.169 | <span style=\"color: #d70000; text-decoration-color: #d70000\">ERROR</span>   | root - An error occurred in predict: OrionRunner service error: Service Unavailable\n",
       "</pre>\n"
      ],
      "text/plain": [
       "17:27:35.169 | \u001b[38;5;160mERROR\u001b[0m   | root - An error occurred in predict: OrionRunner service error: Service Unavailable\n"
      ]
     },
     "metadata": {},
     "output_type": "display_data"
    },
    {
     "data": {
      "text/html": [
       "<pre style=\"white-space:pre;overflow-x:auto;line-height:normal;font-family:Menlo,'DejaVu Sans Mono',consolas,'Courier New',monospace\">17:27:35.480 | <span style=\"color: #008080; text-decoration-color: #008080\">INFO</span>    | Task run 'Prediction Aave Liquidatons-0' - Finished in state <span style=\"color: #008000; text-decoration-color: #008000\">Completed</span>()\n",
       "</pre>\n"
      ],
      "text/plain": [
       "17:27:35.480 | \u001b[36mINFO\u001b[0m    | Task run 'Prediction Aave Liquidatons-0' - Finished in state \u001b[32mCompleted\u001b[0m()\n"
      ]
     },
     "metadata": {},
     "output_type": "display_data"
    },
    {
     "data": {
      "text/html": [
       "<pre style=\"white-space:pre;overflow-x:auto;line-height:normal;font-family:Menlo,'DejaVu Sans Mono',consolas,'Courier New',monospace\">17:27:35.482 | <span style=\"color: #008080; text-decoration-color: #008080\">INFO</span>    | Flow run<span style=\"color: #800080; text-decoration-color: #800080\"> 'eager-cicada'</span> - Result:  None\n",
       "</pre>\n"
      ],
      "text/plain": [
       "17:27:35.482 | \u001b[36mINFO\u001b[0m    | Flow run\u001b[35m 'eager-cicada'\u001b[0m - Result:  None\n"
      ]
     },
     "metadata": {},
     "output_type": "display_data"
    },
    {
     "data": {
      "text/html": [
       "<pre style=\"white-space:pre;overflow-x:auto;line-height:normal;font-family:Menlo,'DejaVu Sans Mono',consolas,'Courier New',monospace\">17:27:35.483 | <span style=\"color: #008080; text-decoration-color: #008080\">INFO</span>    | Flow run<span style=\"color: #800080; text-decoration-color: #800080\"> 'eager-cicada'</span> - Request id:  None\n",
       "</pre>\n"
      ],
      "text/plain": [
       "17:27:35.483 | \u001b[36mINFO\u001b[0m    | Flow run\u001b[35m 'eager-cicada'\u001b[0m - Request id:  None\n"
      ]
     },
     "metadata": {},
     "output_type": "display_data"
    },
    {
     "data": {
      "text/html": [
       "<pre style=\"white-space:pre;overflow-x:auto;line-height:normal;font-family:Menlo,'DejaVu Sans Mono',consolas,'Courier New',monospace\">17:27:35.623 | <span style=\"color: #008080; text-decoration-color: #008080\">INFO</span>    | Flow run<span style=\"color: #800080; text-decoration-color: #800080\"> 'eager-cicada'</span> - Finished in state <span style=\"color: #008000; text-decoration-color: #008000\">Completed</span>()\n",
       "</pre>\n"
      ],
      "text/plain": [
       "17:27:35.623 | \u001b[36mINFO\u001b[0m    | Flow run\u001b[35m 'eager-cicada'\u001b[0m - Finished in state \u001b[32mCompleted\u001b[0m()\n"
      ]
     },
     "metadata": {},
     "output_type": "display_data"
    },
    {
     "data": {
      "text/plain": [
       "(None, None)"
      ]
     },
     "execution_count": 11,
     "metadata": {},
     "output_type": "execute_result"
    }
   ],
   "source": [
    "MODEL_ID = 294  # Update with your model ID\n",
    "VERSION_ID = 1  # Update with your version ID\n",
    "\n",
    "\n",
    "@task(name=f'Prediction Aave Liquidatons')\n",
    "def prediction(input, model_id, version_id):\n",
    "    model = GizaModel(id=model_id, version=version_id)\n",
    "\n",
    "    (result, request_id) = model.predict(\n",
    "        input_feed={\"input\": input}, verifiable=True, output_dtype='Tensor<FP16x16>'\n",
    "    )\n",
    "\n",
    "    return result, request_id\n",
    "\n",
    "\n",
    "@action(name=f'Execution: Aave Liquidatons Prediction ', log_prints=True)\n",
    "def execution():\n",
    "    (result, request_id) = prediction(input, MODEL_ID, VERSION_ID)\n",
    "    print(\"Result: \", result)\n",
    "    print(\"Request id: \", request_id)\n",
    "\n",
    "    return result, request_id\n",
    "\n",
    "\n",
    "execution()"
   ]
  }
 ],
 "metadata": {
  "kernelspec": {
   "display_name": "aave_liquiditation_model-m2euP33O-py3.11",
   "language": "python",
   "name": "python3"
  },
  "language_info": {
   "codemirror_mode": {
    "name": "ipython",
    "version": 3
   },
   "file_extension": ".py",
   "mimetype": "text/x-python",
   "name": "python",
   "nbconvert_exporter": "python",
   "pygments_lexer": "ipython3",
   "version": "3.11.0"
  }
 },
 "nbformat": 4,
 "nbformat_minor": 2
}
