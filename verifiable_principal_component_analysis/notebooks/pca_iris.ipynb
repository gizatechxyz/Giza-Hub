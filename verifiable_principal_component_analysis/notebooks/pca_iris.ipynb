{
 "cells": [
  {
   "cell_type": "markdown",
   "metadata": {},
   "source": [
    "# <span style='color:Black'> **Verifiable Principal Components Analysis**  </span> "
   ]
  },
  {
   "cell_type": "markdown",
   "metadata": {},
   "source": [
    "\n",
    "The Principal Component Analysis (PCA) method is an unsupervised learning algorithm that aims to reduce the dimensionality of a dataset consisting of a large number of interrelated variables, while at the same time preserving as much of the variation present in the original dataset as possible. This is achieved by transforming to a new set of variables, the principal components (PC), which are uncorrelated and are ordered in such a way that the first ones retain most of the variation present in all the original variables. More formally, with PCA, given \n",
    "$n$ observations of $p$ variables, it seeks the possibility of adequately representing this information with a smaller number of variables, constructed as linear combinations of the original variables."
   ]
  },
  {
   "cell_type": "markdown",
   "metadata": {},
   "source": [
    "Below, we provide a brief review of the implementation of a Principal Component Analysis (PCA) in Python, which we will then convert to Cairo to transform it into a verifiable ZKML (Principal Component Analysis), using the Orion library. This provides an opportunity to become familiar with the main functions and operators that the framework offers for the implementation of PCA."
   ]
  },
  {
   "cell_type": "markdown",
   "metadata": {},
   "source": [
    "### <span style='color:Black'> **Used DataSet**  </span>"
   ]
  },
  {
   "cell_type": "markdown",
   "metadata": {},
   "source": [
    "For the purposes of this tutorial, we will use the iris dataset from sklearn.datasets."
   ]
  },
  {
   "cell_type": "code",
   "execution_count": 1,
   "metadata": {},
   "outputs": [],
   "source": [
    "import numpy as np\n",
    "import math\n",
    "import matplotlib.pyplot as plt\n",
    "import pandas as pd\n",
    "from sklearn.datasets import load_iris"
   ]
  },
  {
   "cell_type": "code",
   "execution_count": 2,
   "metadata": {},
   "outputs": [],
   "source": [
    "# Cargar datos de Iris\n",
    "data = load_iris()\n",
    "X = data['data']\n",
    "\n",
    "y = data['target']"
   ]
  },
  {
   "cell_type": "markdown",
   "metadata": {},
   "source": [
    "For the purposes of this tutorial, we will not take into account the total number of records in the original dataset. In this sense, we will only focus on the first 105 individuals and the first 3 variables, in order to have comparable results between the python and cairo implementations, taking into consideration the same number of iterations in both programs to achieve orthogonality between the components at the computational level. Therefore, we will have the total number of individuals of the species versicolor and virginica, partially the individuals of the species setosa and with the exclusion of the variable petal width."
   ]
  },
  {
   "cell_type": "code",
   "execution_count": 3,
   "metadata": {},
   "outputs": [],
   "source": [
    "X, y = X[:105,0:3], y[:105]"
   ]
  },
  {
   "cell_type": "markdown",
   "metadata": {},
   "source": [
    "Before applying PCA, it is important to standardize the data. This ensures that each feature has an equal weight in the calculation of principal components."
   ]
  },
  {
   "cell_type": "code",
   "execution_count": 4,
   "metadata": {},
   "outputs": [],
   "source": [
    "mu = np.mean(X, axis=0)\n",
    "sigma = np.std(X, axis=0)\n",
    "X_std = (X - mu)/sigma"
   ]
  },
  {
   "cell_type": "markdown",
   "metadata": {},
   "source": [
    "We print the first 20 rows"
   ]
  },
  {
   "cell_type": "code",
   "execution_count": 5,
   "metadata": {},
   "outputs": [
    {
     "data": {
      "text/plain": [
       "array([[-0.62902748,  0.86993347, -1.04142584],\n",
       "       [-0.93199944, -0.19965686, -1.04142584],\n",
       "       [-1.23497139,  0.22817927, -1.10670925],\n",
       "       [-1.38645737,  0.0142612 , -0.97614243],\n",
       "       [-0.78051346,  1.08385154, -1.04142584],\n",
       "       [-0.17456955,  1.72560573, -0.84557561],\n",
       "       [-1.38645737,  0.6560154 , -1.04142584],\n",
       "       [-0.78051346,  0.6560154 , -0.97614243],\n",
       "       [-1.68942932, -0.41357493, -1.04142584],\n",
       "       [-0.93199944,  0.0142612 , -0.97614243],\n",
       "       [-0.17456955,  1.2977696 , -0.97614243],\n",
       "       [-1.08348542,  0.6560154 , -0.91085902],\n",
       "       [-1.08348542, -0.19965686, -1.04142584],\n",
       "       [-1.8409153 , -0.19965686, -1.23727607],\n",
       "       [ 0.43137435,  1.9395238 , -1.17199266],\n",
       "       [ 0.27988838,  2.79519606, -0.97614243],\n",
       "       [-0.17456955,  1.72560573, -1.10670925],\n",
       "       [-0.62902748,  0.86993347, -1.04142584],\n",
       "       [ 0.27988838,  1.51168767, -0.84557561],\n",
       "       [-0.62902748,  1.51168767, -0.97614243]])"
      ]
     },
     "execution_count": 5,
     "metadata": {},
     "output_type": "execute_result"
    }
   ],
   "source": [
    "X_std[0:20,:]"
   ]
  },
  {
   "cell_type": "markdown",
   "metadata": {},
   "source": [
    "### <span style='color:Black'> **Implementation of the Jacobi algorithm**  </span>"
   ]
  },
  {
   "cell_type": "markdown",
   "metadata": {},
   "source": [
    "The Jacobi algorithm is an iterative method for finding the eigenvalues and eigenvectors of a symmetric matrix, which in our case is the correlation matrix over $\\mathbf{X_{std}}$. With this method, the aim is to identify pairs of elements off the main diagonal of the matrix and \"rotate\" them to zero using orthogonal transformations. The idea is that, after enough rotations, the matrix will converge to a diagonal matrix whose diagonal elements will be the eigenvalues of the original matrix. The eigenvectors, on the other hand, are constructed from the rotation matrices applied during the process."
   ]
  },
  {
   "cell_type": "code",
   "execution_count": 6,
   "metadata": {},
   "outputs": [],
   "source": [
    "def extract_diagonal(matrix):\n",
    "    return [matrix[i][i] for i in range(len(matrix))]"
   ]
  },
  {
   "cell_type": "code",
   "execution_count": 7,
   "metadata": {},
   "outputs": [],
   "source": [
    "def find_max_off_diag(A):\n",
    "    n = A.shape[0]\n",
    "    p, q = 0, 1\n",
    "    max_val = abs(A[p, q])\n",
    "    for i in range(n-1):\n",
    "        for j in range(i+1, n):\n",
    "            if abs(A[i, j]) > max_val:\n",
    "                max_val = abs(A[i, j])\n",
    "                p, q = i, j\n",
    "    return p, q\n",
    "\n",
    "def jacobi_eigensystem(A, tol=1e-2, max_iter=500): \n",
    "    if len(A.shape) != 2 or A.shape[0] != A.shape[1]:\n",
    "        raise ValueError(\"A must be a square matrix\")\n",
    "    \n",
    "    n = A.shape[0]\n",
    "    V = np.eye(n)\n",
    "\n",
    "    for _ in range(max_iter):\n",
    "        p, q = find_max_off_diag(A)\n",
    "        \n",
    "        if abs(A[p, q]) < tol:\n",
    "            break\n",
    "        \n",
    "        if A[p, p] == A[q, q]:\n",
    "            theta = math.pi/4\n",
    "        else:\n",
    "            theta = 0.5 * math.atan(2 * A[p, q] / (A[p, p] - A[q, q]))\n",
    "        \n",
    "        J = np.eye(n)\n",
    "        J[p, p], J[q, q] = math.cos(theta), math.cos(theta)\n",
    "        J[p, q], J[q, p] = math.sin(theta), -math.sin(theta)\n",
    "        \n",
    "        A = np.matmul(np.matmul(J.T,A),J)\n",
    "        V = np.matmul(V,J)\n",
    "\n",
    "    return extract_diagonal(A), V"
   ]
  },
  {
   "cell_type": "markdown",
   "metadata": {},
   "source": [
    "### <span style='color:Black'> **Correlation Matrix**  </span>"
   ]
  },
  {
   "cell_type": "markdown",
   "metadata": {},
   "source": [
    "At this point, we determine the correlation matrix, based on the calculations of the variance and covariance matrix for **$\\mathbf{X_{std}}$** :\n",
    "\n",
    "We compute the covariance matrix\n",
    "\n",
    " $\\mathbf{S}$ = $\\mathbf{X}^{T}$ $\\mathbf{X}$ $/\\mathbf{n-1}$ \n",
    "\n",
    "Then, we determine the correlation matrix :\n",
    "\n",
    "$\\mathbf{r}$  =  $\\mathbf{Cov(X,Y)}$ $/\\mathbf{S_{X} S_{Y}}$,\n",
    "\n",
    "where $\\mathbf{S_{X} S_{Y}}$ are the standard deviations of X and Y respectively. "
   ]
  },
  {
   "cell_type": "code",
   "execution_count": 8,
   "metadata": {},
   "outputs": [],
   "source": [
    "n = (X_std.shape[0]-1) \n",
    "cov_matrix = np.dot(X_std.T,X_std)/n \n",
    "stddevs = np.sqrt(extract_diagonal(cov_matrix))"
   ]
  },
  {
   "cell_type": "code",
   "execution_count": 9,
   "metadata": {},
   "outputs": [
    {
     "data": {
      "text/plain": [
       "array([[ 1.00961538, -0.20656485,  0.83469099],\n",
       "       [-0.20656485,  1.00961538, -0.57369635],\n",
       "       [ 0.83469099, -0.57369635,  1.00961538]])"
      ]
     },
     "execution_count": 9,
     "metadata": {},
     "output_type": "execute_result"
    }
   ],
   "source": [
    "cov_matrix"
   ]
  },
  {
   "cell_type": "code",
   "execution_count": 10,
   "metadata": {},
   "outputs": [],
   "source": [
    "corr_matrix = cov_matrix / np.matmul(stddevs.reshape(-1, 1),stddevs.reshape(1, -1))"
   ]
  },
  {
   "cell_type": "code",
   "execution_count": 11,
   "metadata": {},
   "outputs": [
    {
     "data": {
      "text/plain": [
       "array([[ 1.        , -0.20459756,  0.82674155],\n",
       "       [-0.20459756,  1.        , -0.56823258],\n",
       "       [ 0.82674155, -0.56823258,  1.        ]])"
      ]
     },
     "execution_count": 11,
     "metadata": {},
     "output_type": "execute_result"
    }
   ],
   "source": [
    "corr_matrix"
   ]
  },
  {
   "cell_type": "code",
   "execution_count": 12,
   "metadata": {},
   "outputs": [],
   "source": [
    "evalu, evec = jacobi_eigensystem(corr_matrix)"
   ]
  },
  {
   "cell_type": "markdown",
   "metadata": {},
   "source": [
    "At this point, we have the eigenvalues and eigenvectors associated with the correlation matrix. Now, we sort the eigenvalues in decreasing order, as the largest of these will be associated with the component that explains the most variability in the data. Consequently, the principal components will be sorted in the same order as the eigenvalues and eigenvectors."
   ]
  },
  {
   "cell_type": "code",
   "execution_count": 13,
   "metadata": {},
   "outputs": [],
   "source": [
    "idx = np.argsort(evalu)[::-1]\n",
    "evec = evec[:,idx]\n",
    "evalu = np.sort(evalu)[::-1]"
   ]
  },
  {
   "cell_type": "code",
   "execution_count": 14,
   "metadata": {},
   "outputs": [
    {
     "data": {
      "text/plain": [
       "(array([2.10545934, 0.81005256, 0.0844881 ]),\n",
       " array([[-0.58699831,  0.55819468, -0.58638867],\n",
       "        [ 0.45714577,  0.82631669,  0.32896575],\n",
       "        [-0.66816968,  0.07496276,  0.74022284]]))"
      ]
     },
     "execution_count": 14,
     "metadata": {},
     "output_type": "execute_result"
    }
   ],
   "source": [
    "evalu, evec"
   ]
  },
  {
   "cell_type": "markdown",
   "metadata": {},
   "source": [
    "### <span style='color:Black'> **Loadings PCA**  </span>"
   ]
  },
  {
   "cell_type": "markdown",
   "metadata": {},
   "source": [
    "Once the aforementioned order is established, we find the loadings which are represented by the discovered eigenvectors (evec). These loadings represent the coefficients of each variable in each of the principal components."
   ]
  },
  {
   "cell_type": "code",
   "execution_count": 15,
   "metadata": {},
   "outputs": [
    {
     "data": {
      "text/html": [
       "<div>\n",
       "<style scoped>\n",
       "    .dataframe tbody tr th:only-of-type {\n",
       "        vertical-align: middle;\n",
       "    }\n",
       "\n",
       "    .dataframe tbody tr th {\n",
       "        vertical-align: top;\n",
       "    }\n",
       "\n",
       "    .dataframe thead th {\n",
       "        text-align: right;\n",
       "    }\n",
       "</style>\n",
       "<table border=\"1\" class=\"dataframe\">\n",
       "  <thead>\n",
       "    <tr style=\"text-align: right;\">\n",
       "      <th></th>\n",
       "      <th>PC1</th>\n",
       "      <th>PC2</th>\n",
       "      <th>PC3</th>\n",
       "    </tr>\n",
       "  </thead>\n",
       "  <tbody>\n",
       "    <tr>\n",
       "      <th>sepal length (cm)</th>\n",
       "      <td>-0.586998</td>\n",
       "      <td>0.558195</td>\n",
       "      <td>-0.586389</td>\n",
       "    </tr>\n",
       "    <tr>\n",
       "      <th>sepal width (cm)</th>\n",
       "      <td>0.457146</td>\n",
       "      <td>0.826317</td>\n",
       "      <td>0.328966</td>\n",
       "    </tr>\n",
       "    <tr>\n",
       "      <th>petal length (cm)</th>\n",
       "      <td>-0.668170</td>\n",
       "      <td>0.074963</td>\n",
       "      <td>0.740223</td>\n",
       "    </tr>\n",
       "  </tbody>\n",
       "</table>\n",
       "</div>"
      ],
      "text/plain": [
       "                        PC1       PC2       PC3\n",
       "sepal length (cm) -0.586998  0.558195 -0.586389\n",
       "sepal width (cm)   0.457146  0.826317  0.328966\n",
       "petal length (cm) -0.668170  0.074963  0.740223"
      ]
     },
     "execution_count": 15,
     "metadata": {},
     "output_type": "execute_result"
    }
   ],
   "source": [
    "loadings = pd.DataFrame(evec,columns=['PC1','PC2','PC3'], index = data['feature_names'][:3])\n",
    "loadings"
   ]
  },
  {
   "cell_type": "markdown",
   "metadata": {},
   "source": [
    "### <span style='color:Black'> **New axis, Principal Components**  </span>"
   ]
  },
  {
   "cell_type": "markdown",
   "metadata": {},
   "source": [
    "Next, we identify the new axes or principal components, which are obtained as a linear combination of the standardized original variables."
   ]
  },
  {
   "cell_type": "markdown",
   "metadata": {},
   "source": [
    "$\\mathbf{PC_{i}}$ =  $\\mathbf{a_{i1}X_1}   +  \\mathbf{a_{i2}X_2}  +  \\mathbf{...}  +  \\mathbf{a_{in}X_n}$,\n",
    "\n",
    "Where,\n",
    "\n",
    "$\\mathbf{X_1}, \\mathbf{X_2}, \\mathbf{...} + \\mathbf{X_n}$  are the standardized original variables.\n",
    "\n",
    "$\\mathbf{a_{i1}}, \\mathbf{a_{i2}}, \\mathbf{...} + \\mathbf{a_{in}}$ are the coefficients or loadings of the $\\mathbf{i-th}$ eigenvector."
   ]
  },
  {
   "cell_type": "code",
   "execution_count": 16,
   "metadata": {},
   "outputs": [
    {
     "data": {
      "text/html": [
       "<div>\n",
       "<style scoped>\n",
       "    .dataframe tbody tr th:only-of-type {\n",
       "        vertical-align: middle;\n",
       "    }\n",
       "\n",
       "    .dataframe tbody tr th {\n",
       "        vertical-align: top;\n",
       "    }\n",
       "\n",
       "    .dataframe thead th {\n",
       "        text-align: right;\n",
       "    }\n",
       "</style>\n",
       "<table border=\"1\" class=\"dataframe\">\n",
       "  <thead>\n",
       "    <tr style=\"text-align: right;\">\n",
       "      <th></th>\n",
       "      <th>principal component 1</th>\n",
       "      <th>principal component 2</th>\n",
       "      <th>principal component 3</th>\n",
       "    </tr>\n",
       "  </thead>\n",
       "  <tbody>\n",
       "    <tr>\n",
       "      <th>0</th>\n",
       "      <td>1.462774</td>\n",
       "      <td>0.289653</td>\n",
       "      <td>-0.115854</td>\n",
       "    </tr>\n",
       "    <tr>\n",
       "      <th>1</th>\n",
       "      <td>1.151659</td>\n",
       "      <td>-0.763285</td>\n",
       "      <td>-0.290054</td>\n",
       "    </tr>\n",
       "    <tr>\n",
       "      <th>2</th>\n",
       "      <td>1.568707</td>\n",
       "      <td>-0.583768</td>\n",
       "      <td>-0.019975</td>\n",
       "    </tr>\n",
       "    <tr>\n",
       "      <th>3</th>\n",
       "      <td>1.472596</td>\n",
       "      <td>-0.835303</td>\n",
       "      <td>0.095131</td>\n",
       "    </tr>\n",
       "    <tr>\n",
       "      <th>4</th>\n",
       "      <td>1.649487</td>\n",
       "      <td>0.381858</td>\n",
       "      <td>0.043347</td>\n",
       "    </tr>\n",
       "    <tr>\n",
       "      <th>...</th>\n",
       "      <td>...</td>\n",
       "      <td>...</td>\n",
       "      <td>...</td>\n",
       "    </tr>\n",
       "    <tr>\n",
       "      <th>100</th>\n",
       "      <td>-1.806412</td>\n",
       "      <td>1.175944</td>\n",
       "      <td>0.900363</td>\n",
       "    </tr>\n",
       "    <tr>\n",
       "      <th>101</th>\n",
       "      <td>-1.555969</td>\n",
       "      <td>-0.351478</td>\n",
       "      <td>0.487362</td>\n",
       "    </tr>\n",
       "    <tr>\n",
       "      <th>102</th>\n",
       "      <td>-2.767543</td>\n",
       "      <td>1.317228</td>\n",
       "      <td>-0.069714</td>\n",
       "    </tr>\n",
       "    <tr>\n",
       "      <th>103</th>\n",
       "      <td>-2.023098</td>\n",
       "      <td>0.449313</td>\n",
       "      <td>0.425579</td>\n",
       "    </tr>\n",
       "    <tr>\n",
       "      <th>104</th>\n",
       "      <td>-2.190391</td>\n",
       "      <td>0.804982</td>\n",
       "      <td>0.414940</td>\n",
       "    </tr>\n",
       "  </tbody>\n",
       "</table>\n",
       "<p>105 rows × 3 columns</p>\n",
       "</div>"
      ],
      "text/plain": [
       "     principal component 1  principal component 2  principal component 3\n",
       "0                 1.462774               0.289653              -0.115854\n",
       "1                 1.151659              -0.763285              -0.290054\n",
       "2                 1.568707              -0.583768              -0.019975\n",
       "3                 1.472596              -0.835303               0.095131\n",
       "4                 1.649487               0.381858               0.043347\n",
       "..                     ...                    ...                    ...\n",
       "100              -1.806412               1.175944               0.900363\n",
       "101              -1.555969              -0.351478               0.487362\n",
       "102              -2.767543               1.317228              -0.069714\n",
       "103              -2.023098               0.449313               0.425579\n",
       "104              -2.190391               0.804982               0.414940\n",
       "\n",
       "[105 rows x 3 columns]"
      ]
     },
     "execution_count": 16,
     "metadata": {},
     "output_type": "execute_result"
    }
   ],
   "source": [
    "principalDf = pd.DataFrame(np.dot(X_std,loadings))\n",
    "principalDf.columns = [\"principal component {}\".format(i+1) for i in range(principalDf.shape[1])]\n",
    "principalDf"
   ]
  },
  {
   "cell_type": "markdown",
   "metadata": {},
   "source": [
    "Next, we validate the orthogonality between the principal components, as we observe the lack of correlation between these new variables (Principal Components)."
   ]
  },
  {
   "cell_type": "code",
   "execution_count": 17,
   "metadata": {},
   "outputs": [],
   "source": [
    "n = principalDf.shape[0] - 1\n",
    "cov_new = np.dot(np.array(principalDf).T,np.array(principalDf))/n \n",
    "stddevs = np.sqrt(extract_diagonal(cov_new))\n",
    "corr_new = cov_new / np.matmul(stddevs.reshape(-1, 1),stddevs.reshape(1, -1))"
   ]
  },
  {
   "cell_type": "code",
   "execution_count": 18,
   "metadata": {},
   "outputs": [
    {
     "data": {
      "text/plain": [
       "array([[ 1.        , -0.002632  , -0.01975951],\n",
       "       [-0.002632  ,  1.        ,  0.0200618 ],\n",
       "       [-0.01975951,  0.0200618 ,  1.        ]])"
      ]
     },
     "execution_count": 18,
     "metadata": {},
     "output_type": "execute_result"
    }
   ],
   "source": [
    "corr_new"
   ]
  },
  {
   "cell_type": "code",
   "execution_count": 19,
   "metadata": {},
   "outputs": [
    {
     "data": {
      "text/html": [
       "<div>\n",
       "<style scoped>\n",
       "    .dataframe tbody tr th:only-of-type {\n",
       "        vertical-align: middle;\n",
       "    }\n",
       "\n",
       "    .dataframe tbody tr th {\n",
       "        vertical-align: top;\n",
       "    }\n",
       "\n",
       "    .dataframe thead th {\n",
       "        text-align: right;\n",
       "    }\n",
       "</style>\n",
       "<table border=\"1\" class=\"dataframe\">\n",
       "  <thead>\n",
       "    <tr style=\"text-align: right;\">\n",
       "      <th></th>\n",
       "      <th>0</th>\n",
       "      <th>1</th>\n",
       "      <th>2</th>\n",
       "    </tr>\n",
       "  </thead>\n",
       "  <tbody>\n",
       "    <tr>\n",
       "      <th>0</th>\n",
       "      <td>1.0</td>\n",
       "      <td>0.0</td>\n",
       "      <td>0.0</td>\n",
       "    </tr>\n",
       "    <tr>\n",
       "      <th>1</th>\n",
       "      <td>0.0</td>\n",
       "      <td>1.0</td>\n",
       "      <td>0.0</td>\n",
       "    </tr>\n",
       "    <tr>\n",
       "      <th>2</th>\n",
       "      <td>0.0</td>\n",
       "      <td>0.0</td>\n",
       "      <td>1.0</td>\n",
       "    </tr>\n",
       "  </tbody>\n",
       "</table>\n",
       "</div>"
      ],
      "text/plain": [
       "     0    1    2\n",
       "0  1.0  0.0  0.0\n",
       "1  0.0  1.0  0.0\n",
       "2  0.0  0.0  1.0"
      ]
     },
     "execution_count": 19,
     "metadata": {},
     "output_type": "execute_result"
    }
   ],
   "source": [
    "new_corr = round(abs(pd.DataFrame(corr_new)))\n",
    "new_corr"
   ]
  },
  {
   "cell_type": "markdown",
   "metadata": {},
   "source": [
    "The implementation of Jacobi in Python is carried out considering 500 iterations, in order to optimize its implementation at the Cairo level. That is why rounding is applied when checking for orthogonality."
   ]
  },
  {
   "cell_type": "markdown",
   "metadata": {},
   "source": [
    "### <span style='color:Black'> **Selection of the number of components to be retained**  </span>"
   ]
  },
  {
   "cell_type": "markdown",
   "metadata": {},
   "source": [
    "Each principal component accounts for a proportion of the total variance, and such proportion can be determined by the ratio of each eigenvalue to the total sum of all eigenvalues. Thus, the percentage of variance explained by the i-th component is given by:\n",
    "\n",
    "$\\frac{\\lambda_i}{\\sum_{j=1}^{p} \\lambda_j}$"
   ]
  },
  {
   "cell_type": "code",
   "execution_count": 20,
   "metadata": {},
   "outputs": [
    {
     "data": {
      "image/png": "[encoded data removed]",
      "text/plain": [
       "<Figure size 640x480 with 1 Axes>"
      ]
     },
     "metadata": {},
     "output_type": "display_data"
    }
   ],
   "source": [
    "plt.plot(np.cumsum(evalu)/np.sum(evalu))\n",
    "plt.xlabel('number of components')\n",
    "plt.ylabel('cumulative explained variance');"
   ]
  },
  {
   "cell_type": "code",
   "execution_count": 21,
   "metadata": {},
   "outputs": [
    {
     "data": {
      "text/plain": [
       "97.0"
      ]
     },
     "execution_count": 21,
     "metadata": {},
     "output_type": "execute_result"
    }
   ],
   "source": [
    "select_pc = round(((evalu)/np.sum(evalu))[:2].sum(),2)*100\n",
    "select_pc"
   ]
  },
  {
   "cell_type": "markdown",
   "metadata": {},
   "source": [
    "As observed in the previous graph, we decided to keep the **first 2 components**, which explain **97%** of the total variability of the data."
   ]
  },
  {
   "cell_type": "code",
   "execution_count": 22,
   "metadata": {},
   "outputs": [
    {
     "data": {
      "image/png": "[encoded data removed]",
      "text/plain": [
       "<Figure size 800x800 with 1 Axes>"
      ]
     },
     "metadata": {},
     "output_type": "display_data"
    }
   ],
   "source": [
    "fig = plt.figure(figsize = (8,8))\n",
    "ax = fig.add_subplot(1,1,1) \n",
    "ax.set_xlabel('Principal Component 1', fontsize = 15)\n",
    "ax.set_ylabel('Principal Component 2', fontsize = 15)\n",
    "ax.set_title('First two Components of PCA', fontsize = 20)\n",
    "\n",
    "targets = [0, 1, 2]\n",
    "names = ['setosa', 'versicolor','virginica']\n",
    "colors = ['r', 'g', 'b'] \n",
    "for target, color, name in zip(targets, colors, names):\n",
    "    indicesToKeep = y == target\n",
    "    ax.scatter(principalDf.loc[indicesToKeep, 'principal component 1']\n",
    "               , principalDf.loc[indicesToKeep, 'principal component 2']\n",
    "               , c = color\n",
    "               , s = 50)\n",
    "ax.legend(names)\n",
    "ax.grid()"
   ]
  },
  {
   "cell_type": "markdown",
   "metadata": {},
   "source": [
    "Based on what is observed in the graph of the first 2 principal components, we notice how the setosa species differentiates from the versicolor and virginica species in principal component 1, which is attributed to the variables petal length (cm), and sepal length (cm)."
   ]
  },
  {
   "cell_type": "markdown",
   "metadata": {},
   "source": [
    "Among its other applications, here we were able to use PCA to describe a dataset in a dimension smaller than that of the original dataset. As previously discussed, we noticed how we can describe interesting aspects of the original data without the need to address separately all the dimensions of such data."
   ]
  },
  {
   "cell_type": "markdown",
   "metadata": {},
   "source": [
    "## <span style='color:Black'> **Convert your model to Cairo**  </span>"
   ]
  },
  {
   "cell_type": "markdown",
   "metadata": {},
   "source": [
    "### <span style='color:Black'> **Generating Cairo files**  </span>\n",
    "\n",
    "Now let's generate Cairo files for each tensor in the object."
   ]
  },
  {
   "cell_type": "code",
   "execution_count": 23,
   "metadata": {},
   "outputs": [],
   "source": [
    "def decimal_to_fp16x16(num):\n",
    "\n",
    "    whole_num = int(num)\n",
    "    fractional_part = int((num - whole_num) * 65536)\n",
    "    fp_number = (whole_num << 16) + fractional_part\n",
    "    return fp_number"
   ]
  },
  {
   "cell_type": "code",
   "execution_count": 24,
   "metadata": {},
   "outputs": [],
   "source": [
    "import os"
   ]
  },
  {
   "cell_type": "code",
   "execution_count": 25,
   "metadata": {},
   "outputs": [],
   "source": [
    "current_directory = os.getcwd()\n",
    "parent_directory = os.path.dirname(current_directory)\n",
    "new_directory_path = os.path.join(parent_directory, \"src/generated\")"
   ]
  },
  {
   "cell_type": "code",
   "execution_count": 26,
   "metadata": {},
   "outputs": [],
   "source": [
    "os.makedirs('src/generated', exist_ok=True) "
   ]
  },
  {
   "cell_type": "code",
   "execution_count": 27,
   "metadata": {},
   "outputs": [],
   "source": [
    "tensor_name = [\"X\",\"X_std\",\"y\"]\n",
    "\n",
    "def generate_cairo_files(data, name):\n",
    "\n",
    "    with open(os.path.join('src', 'generated', f\"{name}.cairo\"), \"w\") as f:\n",
    "        f.write(\n",
    "            \"use array::{ArrayTrait, SpanTrait};\\n\" +\n",
    "            \"use orion::operators::tensor::{core::{Tensor, TensorTrait}};\\n\" +\n",
    "            \"use orion::operators::tensor::FP16x16Tensor;\\n\" +\n",
    "            \"use orion::numbers::fixed_point::implementations::fp16x16::core::{FP16x16, FixedTrait};\\n\" +\n",
    "            \"\\n\" + f\"fn {name}() -> Tensor<FP16x16>\" + \"{\\n\\n\" + \n",
    "            \"let mut shape = ArrayTrait::new();\\n\"\n",
    "        )\n",
    "        for dim in data.shape:\n",
    "            f.write(f\"shape.append({dim});\\n\")\n",
    "    \n",
    "        f.write(\"let mut data = ArrayTrait::new();\\n\")\n",
    "        for val in np.nditer(data.flatten()):\n",
    "            f.write(f\"data.append(FixedTrait::new({abs(int(decimal_to_fp16x16(val)))}, {str(val < 0).lower()}));\\n\")\n",
    "        f.write(\n",
    "            \"let tensor = TensorTrait::<FP16x16>::new(shape.span(), data.span());\\n\" +\n",
    "            \"return tensor;\\n}\"\n",
    "        )\n",
    "\n",
    "with open(f\"src/generated.cairo\", \"w\") as f:\n",
    "    for n in tensor_name:\n",
    "        f.write(f\"mod {n};\\n\")\n",
    "\n",
    "generate_cairo_files(X, \"X\")\n",
    "generate_cairo_files(X_std, \"X_std\")\n",
    "generate_cairo_files(y, \"y\")"
   ]
  },
  {
   "cell_type": "markdown",
   "metadata": {},
   "source": [
    "<span style='color:Black'> **Convert some hyperparameters to FP16x16**  </span>"
   ]
  },
  {
   "cell_type": "code",
   "execution_count": 28,
   "metadata": {},
   "outputs": [],
   "source": [
    "tol=1e-2\n",
    "max_iter=500"
   ]
  },
  {
   "cell_type": "code",
   "execution_count": 29,
   "metadata": {},
   "outputs": [
    {
     "name": "stdout",
     "output_type": "stream",
     "text": [
      "655\n",
      "32768000\n"
     ]
    }
   ],
   "source": [
    "print(decimal_to_fp16x16(tol))\n",
    "print(decimal_to_fp16x16(max_iter))"
   ]
  },
  {
   "cell_type": "markdown",
   "metadata": {},
   "source": [
    "<span style='color:Black'> **Get an estimate for the first two values of eigenvalus and first eigenvector in FP16x16**  </span>"
   ]
  },
  {
   "cell_type": "code",
   "execution_count": 30,
   "metadata": {},
   "outputs": [
    {
     "name": "stdout",
     "output_type": "stream",
     "text": [
      "First Eigenvalue: 137983\n",
      "Second Eigenvalue: 53087\n",
      "First Eigenvector: [-38469  36581 -38429]\n"
     ]
    }
   ],
   "source": [
    "evec_1 = np.array([decimal_to_fp16x16(evec[0][0]),\n",
    "              decimal_to_fp16x16(evec[0][1]),\n",
    "              decimal_to_fp16x16(evec[0][2])])\n",
    "\n",
    "print(\"First Eigenvalue: {}\".format(decimal_to_fp16x16(evalu[0])))\n",
    "print(\"Second Eigenvalue: {}\".format(decimal_to_fp16x16(evalu[1])))\n",
    "\n",
    "print(\"First Eigenvector: {}\".format(evec_1))"
   ]
  },
  {
   "cell_type": "markdown",
   "metadata": {},
   "source": [
    "For the implementation of PCA in Cairo with Orion, please visit the Convert your model section within the **Verifiable Principal Componentes Analysis tutorial**"
   ]
  }
 ],
 "metadata": {
  "kernelspec": {
   "display_name": "Python 3",
   "language": "python",
   "name": "python3"
  },
  "language_info": {
   "codemirror_mode": {
    "name": "ipython",
    "version": 3
   },
   "file_extension": ".py",
   "mimetype": "text/x-python",
   "name": "python",
   "nbconvert_exporter": "python",
   "pygments_lexer": "ipython3",
   "version": "3.10.12"
  }
 },
 "nbformat": 4,
 "nbformat_minor": 2
}
